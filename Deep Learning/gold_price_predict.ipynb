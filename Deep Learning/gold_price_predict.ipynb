{
 "cells": [
  {
   "cell_type": "markdown",
   "metadata": {},
   "source": [
    "# Students Do: Predicting Gold Closing Prices\n",
    "\n",
    "In this activity, you will gain hands-on experience by building an RNN LSTM for predicting gold closing prices using time-series data."
   ]
  },
  {
   "cell_type": "code",
   "execution_count": 1,
   "metadata": {},
   "outputs": [
    {
     "name": "stderr",
     "output_type": "stream",
     "text": [
      "\n",
      "Bad key \"text.kerning_factor\" on line 4 in\n",
      "C:\\Users\\TinkerBell\\anaconda3\\lib\\site-packages\\matplotlib\\mpl-data\\stylelib\\_classic_test_patch.mplstyle.\n",
      "You probably need to get an updated matplotlibrc file from\n",
      "https://github.com/matplotlib/matplotlib/blob/v3.1.3/matplotlibrc.template\n",
      "or from the matplotlib source distribution\n"
     ]
    }
   ],
   "source": [
    "# Initial imports\n",
    "import numpy as np\n",
    "import pandas as pd\n",
    "import tensorflow as tf\n",
    "%matplotlib inline"
   ]
  },
  {
   "cell_type": "markdown",
   "metadata": {},
   "source": [
    "## Instructions\n",
    "\n",
    "### Initial Setup\n",
    "\n",
    "To ensure models' reproducibility, set the random seed for `numpy` and `tensorflow` libraries."
   ]
  },
  {
   "cell_type": "code",
   "execution_count": 2,
   "metadata": {},
   "outputs": [],
   "source": [
    "# Set the random seed for reproducibility\n",
    "# Note: This is used for model prototyping, but it is good practice to comment this out and run multiple experiments to evaluate your model.\n",
    "from numpy.random import seed\n",
    "\n",
    "seed(1)\n",
    "from tensorflow import random\n",
    "\n",
    "random.set_seed(2)"
   ]
  },
  {
   "cell_type": "markdown",
   "metadata": {},
   "source": [
    "### Data Preparation\n",
    "\n",
    "In this section, you will retrieve the Gold historical prices from the London Bullion Market Association using the [Quandl API](https://www.quandl.com/data/LBMA/GOLD-Gold-Price-London-Fixing). Be sure to have your Quandl API key at hand.\n",
    "\n",
    "#### Data Retrieval\n",
    "\n",
    "Import your Quandl API key from an environment variable named `quandl_key`."
   ]
  },
  {
   "cell_type": "code",
   "execution_count": null,
   "metadata": {},
   "outputs": [],
   "source": [
    "# Import the API key for QUANDL\n",
    "import os"
   ]
  },
  {
   "cell_type": "markdown",
   "metadata": {},
   "source": [
    "Open the [\"Gold Price: London Fixing\" at the Quandl website](https://www.quandl.com/data/LBMA/GOLD-Gold-Price-London-Fixing), and set the URL to retrieve the historical prices of gold in `json` format."
   ]
  },
  {
   "cell_type": "code",
   "execution_count": null,
   "metadata": {},
   "outputs": [],
   "source": [
    "# Set Gold price URL\n",
    "request_url = \n",
    "\n",
    "gold_prices_url = request_url + quandl_key"
   ]
  },
  {
   "cell_type": "markdown",
   "metadata": {},
   "source": [
    "Use the `requests` library to retrieve the historical prices of gold in `json` format."
   ]
  },
  {
   "cell_type": "code",
   "execution_count": null,
   "metadata": {},
   "outputs": [],
   "source": [
    "# Fetch Gold prices from QUANDL\n",
    "import requests\n",
    "\n",
    "response_data = "
   ]
  },
  {
   "cell_type": "markdown",
   "metadata": {},
   "source": [
    "Explore the `json` response data and create a Pandas DataFrame containing the historical prices of gold in all the different currencies provided by the API, and set the data as the index of the DataFrame.\n",
    "\n",
    "Your DataFrame should look like the following sample:\n",
    "\n",
    "\n",
    "![Sample gold prices DataFrame](../Images/sample-gold-prices-df.png)\n",
    "\n",
    "**Note:** Remember that while working with time-series data, it's important to transform dates data to `datetime` data type explicitly. Review the [Quandl API documentation for time-series data](https://docs.quandl.com/docs/time-series) if needed."
   ]
  },
  {
   "cell_type": "code",
   "execution_count": null,
   "metadata": {},
   "outputs": [],
   "source": [
    "# Explore the `response_data` object\n",
    "\n",
    "# Fetch the keys of the `response_data` object\n"
   ]
  },
  {
   "cell_type": "code",
   "execution_count": null,
   "metadata": {},
   "outputs": [],
   "source": [
    "# Explore the contents of the main key\n"
   ]
  },
  {
   "cell_type": "code",
   "execution_count": 7,
   "metadata": {},
   "outputs": [
    {
     "data": {
      "text/plain": [
       "date\n",
       "2014-10-20    119.80\n",
       "2014-10-21    120.02\n",
       "2014-10-22    119.34\n",
       "2014-10-23    118.52\n",
       "2014-10-24    118.35\n",
       "Name: Gold, dtype: float64"
      ]
     },
     "execution_count": 7,
     "metadata": {},
     "output_type": "execute_result"
    }
   ],
   "source": [
    "# Create a DataFrame with Gold prices\n",
    "gold_df=pd.read_csv('../Resources/stock_data.csv', index_col='date', infer_datetime_format=True, parse_dates=True)['Gold']\n",
    "#Transform the \"Date\" column to datetime\n",
    "\n",
    "# Set the \"Date\" column as the DataFrame Index\n",
    "\n",
    "# Show the DataFrame head\n",
    "gold_df.head()\n"
   ]
  },
  {
   "cell_type": "markdown",
   "metadata": {},
   "source": [
    "#### Data Cleaning\n",
    "\n",
    "Before continue, corroborate if there are any `null` or missing values in the DataFrame, if so, fill the missing values with the previous price in the series.\n",
    "\n",
    "**Note:** You may want to review the [Working with missing data guide](https://pandas.pydata.org/pandas-docs/stable/user_guide/missing_data.html) from the Pandas documentation."
   ]
  },
  {
   "cell_type": "code",
   "execution_count": 22,
   "metadata": {},
   "outputs": [
    {
     "data": {
      "text/plain": [
       "count    1259.000000\n",
       "mean      119.402883\n",
       "std         8.131834\n",
       "min       100.500000\n",
       "25%       114.545000\n",
       "50%       119.360000\n",
       "75%       123.645000\n",
       "max       146.660000\n",
       "Name: Gold, dtype: float64"
      ]
     },
     "execution_count": 22,
     "metadata": {},
     "output_type": "execute_result"
    }
   ],
   "source": [
    "# Looking for missing values\n",
    "gold_df.describe()"
   ]
  },
  {
   "cell_type": "code",
   "execution_count": 35,
   "metadata": {},
   "outputs": [],
   "source": [
    "# Filling missing values with the previous ones"
   ]
  },
  {
   "cell_type": "markdown",
   "metadata": {},
   "source": [
    "#### Create the Features `X` and Target `y` Data\n",
    "\n",
    "Use the `window_data()` function bellow, to create the features set `X` and the target vector `y`. Define a window size of `30` days and use the column of the closing gold price (`USD (PM)`) for as feature and target column; this will allow your model to predict gold prices in USD."
   ]
  },
  {
   "cell_type": "code",
   "execution_count": 32,
   "metadata": {},
   "outputs": [],
   "source": [
    "def window_data(df, window):#, feature_col_number, target_col_number):\n",
    "    \"\"\"\n",
    "    This function accepts the column number for the features (X) and the target (y).\n",
    "    It chunks the data up with a rolling window of Xt - window to predict Xt.\n",
    "    It returns two numpy arrays of X and y.\n",
    "    \"\"\"\n",
    "    X = []\n",
    "    y = []\n",
    "    for i in range(len(df) - window):\n",
    "        features = df.iloc[i : (i + window)]#, feature_col_number]\n",
    "        target = df.iloc[(i + window)]#, target_col_number]\n",
    "        X.append(features)\n",
    "        y.append(target)\n",
    "    return np.array(X), np.array(y).reshape(-1, 1)"
   ]
  },
  {
   "cell_type": "code",
   "execution_count": 34,
   "metadata": {},
   "outputs": [
    {
     "name": "stdout",
     "output_type": "stream",
     "text": [
      "1229 1229\n",
      "X sample values:\n",
      "[[119.8  120.02 119.34 118.52 118.35 118.06 118.1  116.41 115.19 112.66\n",
      "  112.15 112.22 109.79 109.88 112.97 110.46 112.04 111.5  111.67 114.47\n",
      "  114.05 115.05 113.68 114.86 115.39 115.11 115.38 115.16 112.11 116.58]\n",
      " [120.02 119.34 118.52 118.35 118.06 118.1  116.41 115.19 112.66 112.15\n",
      "  112.22 109.79 109.88 112.97 110.46 112.04 111.5  111.67 114.47 114.05\n",
      "  115.05 113.68 114.86 115.39 115.11 115.38 115.16 112.11 116.58 115.14]\n",
      " [119.34 118.52 118.35 118.06 118.1  116.41 115.19 112.66 112.15 112.22\n",
      "  109.79 109.88 112.97 110.46 112.04 111.5  111.67 114.47 114.05 115.05\n",
      "  113.68 114.86 115.39 115.11 115.38 115.16 112.11 116.58 115.14 116.33]] \n",
      "\n",
      "y sample values:\n",
      "[[115.14]\n",
      " [116.33]\n",
      " [115.88]]\n"
     ]
    }
   ],
   "source": [
    "# Define the window size\n",
    "window_size =30\n",
    "\n",
    "# Set the index of the feature and target columns\n",
    "feature_column = 0\n",
    "target_column = 0\n",
    "\n",
    "# Create the features (X) and target (y) data using the window_data() function.\n",
    "X, y = window_data(gold_df, window_size)#, feature_column, target_column)\n",
    "\n",
    "# Print a few sample values from X and y\n",
    "print(len(X), len(y))\n",
    "print (f\"X sample values:\\n{X[:3]} \\n\")\n",
    "print (f\"y sample values:\\n{y[:3]}\")\n"
   ]
  },
  {
   "cell_type": "markdown",
   "metadata": {},
   "source": [
    "#### Split Data Between Training and Testing Sets\n",
    "\n",
    "To avoid the dataset being randomized, manually create the training and testing sets using array slicing. Use 70% of the data for training and the remainder for testing."
   ]
  },
  {
   "cell_type": "code",
   "execution_count": 36,
   "metadata": {},
   "outputs": [],
   "source": [
    "# Manually splitting the data\n",
    "split = int(0.7 * len(X))\n",
    "X_train = X[: split]\n",
    "X_test = X[split:]\n",
    "y_train = y[: split]\n",
    "y_test = y[split:]"
   ]
  },
  {
   "cell_type": "markdown",
   "metadata": {},
   "source": [
    "#### Scale Data with `MinMaxScaler`\n",
    "\n",
    "Before training the RNN LSTM model, use the `MinMaxScaler` from `sklearn` to scale the training and testing data between `0` and `1`.\n",
    "\n",
    "**Note:** You need to scale both features and target sets."
   ]
  },
  {
   "cell_type": "code",
   "execution_count": 40,
   "metadata": {},
   "outputs": [],
   "source": [
    "# Importing the MinMaxScaler from sklearn\n",
    "from sklearn.preprocessing import MinMaxScaler\n",
    "\n",
    "# Create a MinMaxScaler object\n",
    "scaler=MinMaxScaler()\n",
    "\n",
    "# Fit the MinMaxScaler object with the features data X\n",
    "scaler.fit(X)\n",
    "# Scale the features training and testing sets\n",
    "X_train =scaler.transform(X_train)\n",
    "X_test =scaler.transform(X_test)\n",
    "# Fit the MinMaxScaler object with the target data Y\n",
    "scaler.fit(y)\n",
    "# Scale the target training and testing sets\n",
    "y_train =scaler.transform(y_train)\n",
    "y_test =scaler.transform(y_test)"
   ]
  },
  {
   "cell_type": "code",
   "execution_count": 41,
   "metadata": {},
   "outputs": [
    {
     "data": {
      "text/plain": [
       "30"
      ]
     },
     "execution_count": 41,
     "metadata": {},
     "output_type": "execute_result"
    }
   ],
   "source": [
    "X_train.shape[1]"
   ]
  },
  {
   "cell_type": "markdown",
   "metadata": {},
   "source": [
    "#### Reshape Features Data for the LSTM Model\n",
    "\n",
    "The LSTM API from Keras needs to receive the features data as a _vertical vector_, so that reshape the `X` data in the form `reshape((X_train.shape[0], X_train.shape[1], 1))`. Both sets, training, and testing should be reshaped."
   ]
  },
  {
   "cell_type": "code",
   "execution_count": 42,
   "metadata": {},
   "outputs": [
    {
     "name": "stdout",
     "output_type": "stream",
     "text": [
      "X_train sample values:\n",
      "[[[0.41811092]\n",
      "  [0.42287695]\n",
      "  [0.40814558]\n",
      "  [0.39038128]\n",
      "  [0.38669844]\n",
      "  [0.38041594]\n",
      "  [0.3812825 ]\n",
      "  [0.34467071]\n",
      "  [0.3182409 ]\n",
      "  [0.26343154]\n",
      "  [0.25238302]\n",
      "  [0.25389948]\n",
      "  [0.2012565 ]\n",
      "  [0.20320624]\n",
      "  [0.27014731]\n",
      "  [0.21577123]\n",
      "  [0.25      ]\n",
      "  [0.23830156]\n",
      "  [0.2419844 ]\n",
      "  [0.30264298]\n",
      "  [0.29354419]\n",
      "  [0.31520797]\n",
      "  [0.2855286 ]\n",
      "  [0.31109185]\n",
      "  [0.32257366]\n",
      "  [0.3165078 ]\n",
      "  [0.32235702]\n",
      "  [0.31759099]\n",
      "  [0.25151646]\n",
      "  [0.34835355]]\n",
      "\n",
      " [[0.42287695]\n",
      "  [0.40814558]\n",
      "  [0.39038128]\n",
      "  [0.38669844]\n",
      "  [0.38041594]\n",
      "  [0.3812825 ]\n",
      "  [0.34467071]\n",
      "  [0.3182409 ]\n",
      "  [0.26343154]\n",
      "  [0.25238302]\n",
      "  [0.25389948]\n",
      "  [0.2012565 ]\n",
      "  [0.20320624]\n",
      "  [0.27014731]\n",
      "  [0.21577123]\n",
      "  [0.25      ]\n",
      "  [0.23830156]\n",
      "  [0.2419844 ]\n",
      "  [0.30264298]\n",
      "  [0.29354419]\n",
      "  [0.31520797]\n",
      "  [0.2855286 ]\n",
      "  [0.31109185]\n",
      "  [0.32257366]\n",
      "  [0.3165078 ]\n",
      "  [0.32235702]\n",
      "  [0.31759099]\n",
      "  [0.25151646]\n",
      "  [0.34835355]\n",
      "  [0.31715771]]\n",
      "\n",
      " [[0.40814558]\n",
      "  [0.39038128]\n",
      "  [0.38669844]\n",
      "  [0.38041594]\n",
      "  [0.3812825 ]\n",
      "  [0.34467071]\n",
      "  [0.3182409 ]\n",
      "  [0.26343154]\n",
      "  [0.25238302]\n",
      "  [0.25389948]\n",
      "  [0.2012565 ]\n",
      "  [0.20320624]\n",
      "  [0.27014731]\n",
      "  [0.21577123]\n",
      "  [0.25      ]\n",
      "  [0.23830156]\n",
      "  [0.2419844 ]\n",
      "  [0.30264298]\n",
      "  [0.29354419]\n",
      "  [0.31520797]\n",
      "  [0.2855286 ]\n",
      "  [0.31109185]\n",
      "  [0.32257366]\n",
      "  [0.3165078 ]\n",
      "  [0.32235702]\n",
      "  [0.31759099]\n",
      "  [0.25151646]\n",
      "  [0.34835355]\n",
      "  [0.31715771]\n",
      "  [0.34293761]]] \n",
      "\n",
      "X_test sample values:\n",
      "[[[0.56282496]\n",
      "  [0.55199307]\n",
      "  [0.58730503]\n",
      "  [0.60181976]\n",
      "  [0.58470537]\n",
      "  [0.54657712]\n",
      "  [0.54787695]\n",
      "  [0.5797227 ]\n",
      "  [0.55892548]\n",
      "  [0.56217504]\n",
      "  [0.54809359]\n",
      "  [0.56087522]\n",
      "  [0.57019064]\n",
      "  [0.57668977]\n",
      "  [0.59813692]\n",
      "  [0.56585789]\n",
      "  [0.58383882]\n",
      "  [0.5877383 ]\n",
      "  [0.59033795]\n",
      "  [0.59250433]\n",
      "  [0.58708839]\n",
      "  [0.56607452]\n",
      "  [0.54419411]\n",
      "  [0.55740901]\n",
      "  [0.53964471]\n",
      "  [0.53011265]\n",
      "  [0.54159445]\n",
      "  [0.52188042]\n",
      "  [0.50281629]\n",
      "  [0.50151646]]\n",
      "\n",
      " [[0.55199307]\n",
      "  [0.58730503]\n",
      "  [0.60181976]\n",
      "  [0.58470537]\n",
      "  [0.54657712]\n",
      "  [0.54787695]\n",
      "  [0.5797227 ]\n",
      "  [0.55892548]\n",
      "  [0.56217504]\n",
      "  [0.54809359]\n",
      "  [0.56087522]\n",
      "  [0.57019064]\n",
      "  [0.57668977]\n",
      "  [0.59813692]\n",
      "  [0.56585789]\n",
      "  [0.58383882]\n",
      "  [0.5877383 ]\n",
      "  [0.59033795]\n",
      "  [0.59250433]\n",
      "  [0.58708839]\n",
      "  [0.56607452]\n",
      "  [0.54419411]\n",
      "  [0.55740901]\n",
      "  [0.53964471]\n",
      "  [0.53011265]\n",
      "  [0.54159445]\n",
      "  [0.52188042]\n",
      "  [0.50281629]\n",
      "  [0.50151646]\n",
      "  [0.51516464]]\n",
      "\n",
      " [[0.58730503]\n",
      "  [0.60181976]\n",
      "  [0.58470537]\n",
      "  [0.54657712]\n",
      "  [0.54787695]\n",
      "  [0.5797227 ]\n",
      "  [0.55892548]\n",
      "  [0.56217504]\n",
      "  [0.54809359]\n",
      "  [0.56087522]\n",
      "  [0.57019064]\n",
      "  [0.57668977]\n",
      "  [0.59813692]\n",
      "  [0.56585789]\n",
      "  [0.58383882]\n",
      "  [0.5877383 ]\n",
      "  [0.59033795]\n",
      "  [0.59250433]\n",
      "  [0.58708839]\n",
      "  [0.56607452]\n",
      "  [0.54419411]\n",
      "  [0.55740901]\n",
      "  [0.53964471]\n",
      "  [0.53011265]\n",
      "  [0.54159445]\n",
      "  [0.52188042]\n",
      "  [0.50281629]\n",
      "  [0.50151646]\n",
      "  [0.51516464]\n",
      "  [0.52079723]]]\n"
     ]
    }
   ],
   "source": [
    "# Reshape the features data\n",
    "X_train = X_train.reshape((X_train.shape[0], X_train.shape[1], 1))\n",
    "X_test = X_test.reshape((X_test.shape[0], X_test.shape[1], 1))\n",
    "# Print some sample data after reshaping the datasets\n",
    "print (f\"X_train sample values:\\n{X_train[:3]} \\n\")\n",
    "print (f\"X_test sample values:\\n{X_test[:3]}\")"
   ]
  },
  {
   "cell_type": "markdown",
   "metadata": {},
   "source": [
    "---\n",
    "\n",
    "### Build and Train the LSTM RNN\n",
    "\n",
    "In this section, you will design a custom LSTM RNN in Keras and fit (train) it using the training data we defined.\n",
    "\n",
    "You will need to:\n",
    "\n",
    "1. Define the model architecture in Keras.\n",
    "\n",
    "2. Compile the model.\n",
    "\n",
    "3. Fit the model with the training data."
   ]
  },
  {
   "cell_type": "code",
   "execution_count": 43,
   "metadata": {},
   "outputs": [],
   "source": [
    "# Importing required Keras modules\n",
    "from tensorflow.keras.models import Sequential\n",
    "from tensorflow.keras.layers import LSTM, Dense, Dropout"
   ]
  },
  {
   "cell_type": "markdown",
   "metadata": {},
   "source": [
    "#### Create the LSTM RNN Model Structure\n",
    "\n",
    "Design the structure of your RNN LSTM as follows:\n",
    "\n",
    "* Number of units per layer: `30` (same as the window size)\n",
    "\n",
    "* Dropout fraction: `0.2` (20% of neurons will be randomly dropped on each epoch)\n",
    "\n",
    "* Add three `LSTM` layers to your model, remember to add a `Dropout` layer after each `LSTM` layer, and to set `return_sequences=True` in the first two layers only.\n",
    "\n",
    "* Add a `Dense` output layer with one unit."
   ]
  },
  {
   "cell_type": "code",
   "execution_count": 47,
   "metadata": {},
   "outputs": [],
   "source": [
    "# Define the LSTM RNN model.\n",
    "model=Sequential()\n",
    "# Initial model setup\n",
    "number_units = 30\n",
    "dropout_fraction = 0.2\n",
    "\n",
    "# Layer 1\n",
    "model.add(LSTM(units=number_units, input_shape=(X_train.shape[1], 1), return_sequences=True))\n",
    "model.add(Dropout(dropout_fraction))\n",
    "# Layer 2\n",
    "model.add(LSTM(units=number_units, return_sequences=True))\n",
    "model.add(Dropout(dropout_fraction))\n",
    "# Layer 3\n",
    "model.add(LSTM(units=number_units))\n",
    "model.add(Dropout(dropout_fraction))\n",
    "# Output layer\n",
    "model.add(Dense(units=1))"
   ]
  },
  {
   "cell_type": "markdown",
   "metadata": {},
   "source": [
    "#### Compile the LSTM RNN Model\n",
    "\n",
    "Compile the model using the `adam` optimizer, and `mean_square_error` as loss function since the value you want to predict is continuous."
   ]
  },
  {
   "cell_type": "code",
   "execution_count": 48,
   "metadata": {},
   "outputs": [],
   "source": [
    "# Compile the model\n",
    "model.compile(loss='mean_squared_error', optimizer=\"adam\")"
   ]
  },
  {
   "cell_type": "code",
   "execution_count": 49,
   "metadata": {},
   "outputs": [
    {
     "data": {
      "image/png": "[encoded data removed]",
      "text/plain": [
       "<IPython.core.display.Image object>"
      ]
     },
     "execution_count": 49,
     "metadata": {},
     "output_type": "execute_result"
    }
   ],
   "source": [
    "tf.keras.utils.plot_model(\n",
    "    model, to_file='gold.png', show_shapes=True, show_layer_names=True,\n",
    "    rankdir='LR', expand_nested=True, dpi=96\n",
    ")"
   ]
  },
  {
   "cell_type": "code",
   "execution_count": 51,
   "metadata": {},
   "outputs": [
    {
     "name": "stdout",
     "output_type": "stream",
     "text": [
      "Model: \"sequential_1\"\n",
      "_________________________________________________________________\n",
      "Layer (type)                 Output Shape              Param #   \n",
      "=================================================================\n",
      "lstm (LSTM)                  (None, 30, 30)            3840      \n",
      "_________________________________________________________________\n",
      "dropout (Dropout)            (None, 30, 30)            0         \n",
      "_________________________________________________________________\n",
      "lstm_1 (LSTM)                (None, 30, 30)            7320      \n",
      "_________________________________________________________________\n",
      "dropout_1 (Dropout)          (None, 30, 30)            0         \n",
      "_________________________________________________________________\n",
      "lstm_2 (LSTM)                (None, 30)                7320      \n",
      "_________________________________________________________________\n",
      "dropout_2 (Dropout)          (None, 30)                0         \n",
      "_________________________________________________________________\n",
      "dense (Dense)                (None, 1)                 31        \n",
      "=================================================================\n",
      "Total params: 18,511\n",
      "Trainable params: 18,511\n",
      "Non-trainable params: 0\n",
      "_________________________________________________________________\n"
     ]
    }
   ],
   "source": [
    "# Show the model summary\n",
    "model.summary()"
   ]
  },
  {
   "cell_type": "markdown",
   "metadata": {},
   "source": [
    "#### Train the Model\n",
    "\n",
    "Train (fit) the model with the training data using `10` epochs and a `batch_size=90`. Since you are working with time-series data, remember to set `shuffle=False` since it's necessary to keep the sequential order of the data."
   ]
  },
  {
   "cell_type": "code",
   "execution_count": 52,
   "metadata": {},
   "outputs": [
    {
     "name": "stdout",
     "output_type": "stream",
     "text": [
      "Epoch 1/10\n",
      "10/10 [==============================] - 1s 113ms/step - loss: 0.0489\n",
      "Epoch 2/10\n",
      "10/10 [==============================] - 1s 113ms/step - loss: 0.0245\n",
      "Epoch 3/10\n",
      "10/10 [==============================] - 1s 100ms/step - loss: 0.0133\n",
      "Epoch 4/10\n",
      "10/10 [==============================] - 1s 102ms/step - loss: 0.0096\n",
      "Epoch 5/10\n",
      "10/10 [==============================] - 1s 107ms/step - loss: 0.0101\n",
      "Epoch 6/10\n",
      "10/10 [==============================] - 1s 105ms/step - loss: 0.0073\n",
      "Epoch 7/10\n",
      "10/10 [==============================] - 1s 113ms/step - loss: 0.0077\n",
      "Epoch 8/10\n",
      "10/10 [==============================] - 1s 106ms/step - loss: 0.0069\n",
      "Epoch 9/10\n",
      "10/10 [==============================] - 1s 104ms/step - loss: 0.0069\n",
      "Epoch 10/10\n",
      "10/10 [==============================] - 1s 105ms/step - loss: 0.0067\n"
     ]
    },
    {
     "data": {
      "text/plain": [
       "<tensorflow.python.keras.callbacks.History at 0x1a2dae38a08>"
      ]
     },
     "execution_count": 52,
     "metadata": {},
     "output_type": "execute_result"
    }
   ],
   "source": [
    "# Train the model\n",
    "model.fit(X_train, y_train, epochs=10, shuffle=False, batch_size=90, verbose=1)"
   ]
  },
  {
   "cell_type": "markdown",
   "metadata": {},
   "source": [
    "---\n",
    "\n",
    "### Model Performance\n",
    "\n",
    "In this section, you will evaluate the model using the test data. \n",
    "\n",
    "You will need to:\n",
    "\n",
    "1. Evaluate the model using the `X_test` and `y_test` data.\n",
    "\n",
    "2. Use the `X_test` data to make predictions.\n",
    "\n",
    "3. Create a DataFrame of Real (`y_test`) vs. predicted values.\n",
    "\n",
    "4. Plot the real vs. predicted values as a line chart."
   ]
  },
  {
   "cell_type": "markdown",
   "metadata": {},
   "source": [
    "#### Evaluate the Model\n",
    "\n",
    "Use the `evaluate()` method of the model using the testing data."
   ]
  },
  {
   "cell_type": "code",
   "execution_count": 53,
   "metadata": {},
   "outputs": [
    {
     "name": "stdout",
     "output_type": "stream",
     "text": [
      "12/12 [==============================] - 0s 27ms/step - loss: 0.0035\n"
     ]
    },
    {
     "data": {
      "text/plain": [
       "0.0034502518828958273"
      ]
     },
     "execution_count": 53,
     "metadata": {},
     "output_type": "execute_result"
    }
   ],
   "source": [
    "# Evaluate the model\n",
    "model.evaluate(X_test, y_test)"
   ]
  },
  {
   "cell_type": "markdown",
   "metadata": {},
   "source": [
    "#### Make Predictions\n",
    "\n",
    "Use the `predict()` method of the model to make some closing gold price predictions using your brand new LSTM RNN model and your testing data. Save the predictions in a variable called `predicted`."
   ]
  },
  {
   "cell_type": "code",
   "execution_count": 54,
   "metadata": {},
   "outputs": [],
   "source": [
    "# Make predictions using the testing data X_test\n",
    "predicted = model.predict(X_test)"
   ]
  },
  {
   "cell_type": "markdown",
   "metadata": {},
   "source": [
    "Since you scaled the original values using the `MinMaxScaler`, you need to recover the original gold prices to better understand of the predictions. Use the `inverse_transform()` method of the scaler to decode the scaled testing and predicted values to their original scale."
   ]
  },
  {
   "cell_type": "code",
   "execution_count": 55,
   "metadata": {},
   "outputs": [],
   "source": [
    "# Recover the original prices instead of the scaled version\n",
    "predicted_prices = scaler.inverse_transform(predicted)\n",
    "real_prices = scaler.inverse_transform(y_test.reshape(-1, 1))"
   ]
  },
  {
   "cell_type": "markdown",
   "metadata": {},
   "source": [
    "#### Plotting Predicted Vs. Real Prices\n",
    "\n",
    "Create a Pandas DataFrame with an index and two columns as follows to plot the predicted vs. the actual gold prices.\n",
    "\n",
    "* Index: The datetime index from the `gold_df` DataFrame created previously. \n",
    "\n",
    "* Column 1: Actual prices (testing data)\n",
    "\n",
    "* Column 2: Predicted prices\n",
    "\n",
    "Your DataFrame should look like the sample below:\n",
    "\n",
    "![Sample actual vs. predicted gold prices](../Images/sample-gold-prices-predictions-df.png)"
   ]
  },
  {
   "cell_type": "code",
   "execution_count": 56,
   "metadata": {},
   "outputs": [
    {
     "data": {
      "text/html": [
       "<div>\n",
       "<style scoped>\n",
       "    .dataframe tbody tr th:only-of-type {\n",
       "        vertical-align: middle;\n",
       "    }\n",
       "\n",
       "    .dataframe tbody tr th {\n",
       "        vertical-align: top;\n",
       "    }\n",
       "\n",
       "    .dataframe thead th {\n",
       "        text-align: right;\n",
       "    }\n",
       "</style>\n",
       "<table border=\"1\" class=\"dataframe\">\n",
       "  <thead>\n",
       "    <tr style=\"text-align: right;\">\n",
       "      <th></th>\n",
       "      <th>Real</th>\n",
       "      <th>Predicted</th>\n",
       "    </tr>\n",
       "    <tr>\n",
       "      <th>date</th>\n",
       "      <th></th>\n",
       "      <th></th>\n",
       "    </tr>\n",
       "  </thead>\n",
       "  <tbody>\n",
       "    <tr>\n",
       "      <th>2018-05-03</th>\n",
       "      <td>124.28</td>\n",
       "      <td>126.328255</td>\n",
       "    </tr>\n",
       "    <tr>\n",
       "      <th>2018-05-04</th>\n",
       "      <td>124.54</td>\n",
       "      <td>126.177811</td>\n",
       "    </tr>\n",
       "    <tr>\n",
       "      <th>2018-05-07</th>\n",
       "      <td>124.57</td>\n",
       "      <td>126.018242</td>\n",
       "    </tr>\n",
       "    <tr>\n",
       "      <th>2018-05-08</th>\n",
       "      <td>124.59</td>\n",
       "      <td>125.850266</td>\n",
       "    </tr>\n",
       "    <tr>\n",
       "      <th>2018-05-09</th>\n",
       "      <td>124.33</td>\n",
       "      <td>125.683731</td>\n",
       "    </tr>\n",
       "  </tbody>\n",
       "</table>\n",
       "</div>"
      ],
      "text/plain": [
       "              Real   Predicted\n",
       "date                          \n",
       "2018-05-03  124.28  126.328255\n",
       "2018-05-04  124.54  126.177811\n",
       "2018-05-07  124.57  126.018242\n",
       "2018-05-08  124.59  125.850266\n",
       "2018-05-09  124.33  125.683731"
      ]
     },
     "execution_count": 56,
     "metadata": {},
     "output_type": "execute_result"
    }
   ],
   "source": [
    "# Create a DataFrame of Real and Predicted values\n",
    "gold = pd.DataFrame({\n",
    "    \"Real\": real_prices.ravel(),\n",
    "    \"Predicted\": predicted_prices.ravel()\n",
    "    }, index = gold_df.index[-len(real_prices): ])\n",
    "\n",
    "# Show the DataFrame's head\n",
    "gold.head()"
   ]
  },
  {
   "cell_type": "markdown",
   "metadata": {},
   "source": [
    "Use the `plot()` method from the DataFrame to create a line chart to contrast the actual vs. the predicted gold prices."
   ]
  },
  {
   "cell_type": "code",
   "execution_count": 60,
   "metadata": {},
   "outputs": [
    {
     "data": {
      "text/plain": [
       "<matplotlib.axes._subplots.AxesSubplot at 0x1a2e502aac8>"
      ]
     },
     "execution_count": 60,
     "metadata": {},
     "output_type": "execute_result"
    },
    {
     "data": {
      "image/png": "[encoded data removed]",
      "text/plain": [
       "<Figure size 432x288 with 1 Axes>"
      ]
     },
     "metadata": {
      "needs_background": "light"
     },
     "output_type": "display_data"
    }
   ],
   "source": [
    "# Plot the real vs predicted prices as a line chart\n",
    "gold.plot()"
   ]
  },
  {
   "cell_type": "code",
   "execution_count": null,
   "metadata": {},
   "outputs": [],
   "source": []
  }
 ],
 "metadata": {
  "kernelspec": {
   "display_name": "Python [conda env:root]",
   "language": "python",
   "name": "conda-root-py"
  },
  "language_info": {
   "codemirror_mode": {
    "name": "ipython",
    "version": 3
   },
   "file_extension": ".py",
   "mimetype": "text/x-python",
   "name": "python",
   "nbconvert_exporter": "python",
   "pygments_lexer": "ipython3",
   "version": "3.7.6"
  }
 },
 "nbformat": 4,
 "nbformat_minor": 4
}
