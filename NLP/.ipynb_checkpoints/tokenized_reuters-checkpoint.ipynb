{
 "cells": [
  {
   "cell_type": "code",
   "execution_count": 9,
   "metadata": {},
   "outputs": [],
   "source": [
    "from nltk.corpus import reuters\n",
    "from nltk.tokenize import sent_tokenize, word_tokenize\n",
    "import pandas as pd"
   ]
  },
  {
   "cell_type": "code",
   "execution_count": 10,
   "metadata": {},
   "outputs": [
    {
     "name": "stdout",
     "output_type": "stream",
     "text": [
      "['acq', 'alum', 'barley', 'bop', 'carcass', 'castor-oil', 'cocoa', 'coconut', 'coconut-oil', 'coffee', 'copper', 'copra-cake', 'corn', 'cotton', 'cotton-oil', 'cpi', 'cpu', 'crude', 'dfl', 'dlr', 'dmk', 'earn', 'fuel', 'gas', 'gnp', 'gold', 'grain', 'groundnut', 'groundnut-oil', 'heat', 'hog', 'housing', 'income', 'instal-debt', 'interest', 'ipi', 'iron-steel', 'jet', 'jobs', 'l-cattle', 'lead', 'lei', 'lin-oil', 'livestock', 'lumber', 'meal-feed', 'money-fx', 'money-supply', 'naphtha', 'nat-gas', 'nickel', 'nkr', 'nzdlr', 'oat', 'oilseed', 'orange', 'palladium', 'palm-oil', 'palmkernel', 'pet-chem', 'platinum', 'potato', 'propane', 'rand', 'rape-oil', 'rapeseed', 'reserves', 'retail', 'rice', 'rubber', 'rye', 'ship', 'silver', 'sorghum', 'soy-meal', 'soy-oil', 'soybean', 'strategic-metal', 'sugar', 'sun-meal', 'sun-oil', 'sunseed', 'tea', 'tin', 'trade', 'veg-oil', 'wheat', 'wpi', 'yen', 'zinc']\n"
     ]
    }
   ],
   "source": [
    "# Search through all categories\n",
    "print(reuters.categories())"
   ]
  },
  {
   "cell_type": "code",
   "execution_count": 55,
   "metadata": {},
   "outputs": [],
   "source": [
    "# We'll find the first article about cpi\n",
    "a_id= reuters.fileids(categories = 'cpi')[0]"
   ]
  },
  {
   "cell_type": "code",
   "execution_count": 85,
   "metadata": {},
   "outputs": [
    {
     "data": {
      "text/plain": [
       "423"
      ]
     },
     "execution_count": 85,
     "metadata": {},
     "output_type": "execute_result"
    }
   ],
   "source": [
    "t_article = reuters.raw(a_id)\n",
    "len(t_article)"
   ]
  },
  {
   "cell_type": "code",
   "execution_count": 87,
   "metadata": {},
   "outputs": [],
   "source": [
    "sent = article.split('.')[0].split(' ')\n",
    "#sent"
   ]
  },
  {
   "cell_type": "code",
   "execution_count": 42,
   "metadata": {},
   "outputs": [],
   "source": [
    "# Now using NLTK's sent_tokenize function\n",
    "sentence  = sent_tokenize(article)\n",
    "#sentence"
   ]
  },
  {
   "cell_type": "code",
   "execution_count": 53,
   "metadata": {},
   "outputs": [
    {
     "data": {
      "text/plain": [
       "29"
      ]
     },
     "execution_count": 53,
     "metadata": {},
     "output_type": "execute_result"
    }
   ],
   "source": [
    "words = [word_tokenize(t) for t in sentence]\n",
    "len(words)"
   ]
  },
  {
   "cell_type": "code",
   "execution_count": 81,
   "metadata": {},
   "outputs": [],
   "source": [
    "tokenized_df = pd.DataFrame(columns=['article_id', 't_article', 't_sentence', 't_word'])"
   ]
  },
  {
   "cell_type": "code",
   "execution_count": 83,
   "metadata": {},
   "outputs": [
    {
     "data": {
      "text/html": [
       "<div>\n",
       "<style scoped>\n",
       "    .dataframe tbody tr th:only-of-type {\n",
       "        vertical-align: middle;\n",
       "    }\n",
       "\n",
       "    .dataframe tbody tr th {\n",
       "        vertical-align: top;\n",
       "    }\n",
       "\n",
       "    .dataframe thead th {\n",
       "        text-align: right;\n",
       "    }\n",
       "</style>\n",
       "<table border=\"1\" class=\"dataframe\">\n",
       "  <thead>\n",
       "    <tr style=\"text-align: right;\">\n",
       "      <th></th>\n",
       "      <th>t_article</th>\n",
       "      <th>t_sentence</th>\n",
       "      <th>t_word</th>\n",
       "    </tr>\n",
       "    <tr>\n",
       "      <th>article_id</th>\n",
       "      <th></th>\n",
       "      <th></th>\n",
       "      <th></th>\n",
       "    </tr>\n",
       "  </thead>\n",
       "  <tbody>\n",
       "    <tr>\n",
       "      <th>test/14891</th>\n",
       "      <td>ECONOMIC SPOTLIGHT - KUWAITI ECONOMY\\n  Kuwait...</td>\n",
       "      <td>[ECONOMIC SPOTLIGHT - KUWAITI ECONOMY\\n  Kuwai...</td>\n",
       "      <td>[[ECONOMIC, SPOTLIGHT, -, KUWAITI, ECONOMY, Ku...</td>\n",
       "    </tr>\n",
       "    <tr>\n",
       "      <th>test/14918</th>\n",
       "      <td>INDONESIAN INFLATION RATE 8.8 PCT IN 1986/87\\n...</td>\n",
       "      <td>[INDONESIAN INFLATION RATE 8.8 PCT IN 1986/87\\...</td>\n",
       "      <td>[[ECONOMIC, SPOTLIGHT, -, KUWAITI, ECONOMY, Ku...</td>\n",
       "    </tr>\n",
       "    <tr>\n",
       "      <th>test/16103</th>\n",
       "      <td>HUNGARY RAISES PRICES IN EFFORT TO CURB DEFICI...</td>\n",
       "      <td>[HUNGARY RAISES PRICES IN EFFORT TO CURB DEFIC...</td>\n",
       "      <td>[[ECONOMIC, SPOTLIGHT, -, KUWAITI, ECONOMY, Ku...</td>\n",
       "    </tr>\n",
       "    <tr>\n",
       "      <th>test/16108</th>\n",
       "      <td>AUSTRALIAN GOVERNMENT MUST CUT SPENDING, ANZ S...</td>\n",
       "      <td>[AUSTRALIAN GOVERNMENT MUST CUT SPENDING, ANZ ...</td>\n",
       "      <td>[[ECONOMIC, SPOTLIGHT, -, KUWAITI, ECONOMY, Ku...</td>\n",
       "    </tr>\n",
       "    <tr>\n",
       "      <th>test/16118</th>\n",
       "      <td>YUGOSLAV ECONOMY WORSENED IN 1986, BANK DATA S...</td>\n",
       "      <td>[YUGOSLAV ECONOMY WORSENED IN 1986, BANK DATA ...</td>\n",
       "      <td>[[ECONOMIC, SPOTLIGHT, -, KUWAITI, ECONOMY, Ku...</td>\n",
       "    </tr>\n",
       "  </tbody>\n",
       "</table>\n",
       "</div>"
      ],
      "text/plain": [
       "                                                    t_article  \\\n",
       "article_id                                                      \n",
       "test/14891  ECONOMIC SPOTLIGHT - KUWAITI ECONOMY\\n  Kuwait...   \n",
       "test/14918  INDONESIAN INFLATION RATE 8.8 PCT IN 1986/87\\n...   \n",
       "test/16103  HUNGARY RAISES PRICES IN EFFORT TO CURB DEFICI...   \n",
       "test/16108  AUSTRALIAN GOVERNMENT MUST CUT SPENDING, ANZ S...   \n",
       "test/16118  YUGOSLAV ECONOMY WORSENED IN 1986, BANK DATA S...   \n",
       "\n",
       "                                                   t_sentence  \\\n",
       "article_id                                                      \n",
       "test/14891  [ECONOMIC SPOTLIGHT - KUWAITI ECONOMY\\n  Kuwai...   \n",
       "test/14918  [INDONESIAN INFLATION RATE 8.8 PCT IN 1986/87\\...   \n",
       "test/16103  [HUNGARY RAISES PRICES IN EFFORT TO CURB DEFIC...   \n",
       "test/16108  [AUSTRALIAN GOVERNMENT MUST CUT SPENDING, ANZ ...   \n",
       "test/16118  [YUGOSLAV ECONOMY WORSENED IN 1986, BANK DATA ...   \n",
       "\n",
       "                                                       t_word  \n",
       "article_id                                                     \n",
       "test/14891  [[ECONOMIC, SPOTLIGHT, -, KUWAITI, ECONOMY, Ku...  \n",
       "test/14918  [[ECONOMIC, SPOTLIGHT, -, KUWAITI, ECONOMY, Ku...  \n",
       "test/16103  [[ECONOMIC, SPOTLIGHT, -, KUWAITI, ECONOMY, Ku...  \n",
       "test/16108  [[ECONOMIC, SPOTLIGHT, -, KUWAITI, ECONOMY, Ku...  \n",
       "test/16118  [[ECONOMIC, SPOTLIGHT, -, KUWAITI, ECONOMY, Ku...  "
      ]
     },
     "execution_count": 83,
     "metadata": {},
     "output_type": "execute_result"
    }
   ],
   "source": [
    "for a_id in reuters.fileids(categories = 'cpi'):\n",
    "    t_article = reuters.raw(a_id)\n",
    "    t_sentence  = sent_tokenize(t_article)\n",
    "    t_word = [word_tokenize(t) for t in sentence]\n",
    "    tokenized_df = tokenized_df.append({'article_id': a_id, 't_article': t_article, 't_sentence':t_sentence, 't_word':t_word}, ignore_index=True)\n",
    "tokenized_df.set_index('article_id', inplace = True)\n",
    "tokenized_df.head()"
   ]
  },
  {
   "cell_type": "code",
   "execution_count": null,
   "metadata": {},
   "outputs": [],
   "source": []
  }
 ],
 "metadata": {
  "kernelspec": {
   "display_name": "Python 3",
   "language": "python",
   "name": "python3"
  },
  "language_info": {
   "codemirror_mode": {
    "name": "ipython",
    "version": 3
   },
   "file_extension": ".py",
   "mimetype": "text/x-python",
   "name": "python",
   "nbconvert_exporter": "python",
   "pygments_lexer": "ipython3",
   "version": "3.7.6"
  }
 },
 "nbformat": 4,
 "nbformat_minor": 4
}
