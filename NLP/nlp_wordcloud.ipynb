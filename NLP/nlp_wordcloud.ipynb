{
 "cells": [
  {
   "cell_type": "code",
   "execution_count": 197,
   "metadata": {},
   "outputs": [
    {
     "name": "stderr",
     "output_type": "stream",
     "text": [
      "\n",
      "Bad key \"text.kerning_factor\" on line 4 in\n",
      "C:\\Users\\TinkerBell\\anaconda3\\lib\\site-packages\\matplotlib\\mpl-data\\stylelib\\_classic_test_patch.mplstyle.\n",
      "You probably need to get an updated matplotlibrc file from\n",
      "https://github.com/matplotlib/matplotlib/blob/v3.1.3/matplotlibrc.template\n",
      "or from the matplotlib source distribution\n"
     ]
    }
   ],
   "source": [
    "from nltk.corpus import reuters, stopwords\n",
    "from nltk.tokenize import word_tokenize, sent_tokenize\n",
    "from nltk.stem import WordNetLemmatizer \n",
    "from wordcloud import WordCloud\n",
    "from nltk.util import ngrams\n",
    "import pandas as pd\n",
    "import matplotlib.pyplot as plt\n",
    "import re"
   ]
  },
  {
   "cell_type": "code",
   "execution_count": 198,
   "metadata": {},
   "outputs": [],
   "source": [
    "# import nltk\n",
    "# nltk.download('wordnet')\n",
    "# Instantiate the lemmatizer\n",
    "lemmatizer = WordNetLemmatizer()"
   ]
  },
  {
   "cell_type": "code",
   "execution_count": 222,
   "metadata": {},
   "outputs": [],
   "source": [
    "#crude_article = reuters.raw(fileids=reuters.fileids(categories='crude')[2])\n",
    "ids = reuters.fileids(categories='crude')\n",
    "corpus = [reuters.raw(i) for i in ids]\n",
    "big_string = ' '.join(corpus)"
   ]
  },
  {
   "cell_type": "code",
   "execution_count": 41,
   "metadata": {},
   "outputs": [
    {
     "data": {
      "text/plain": [
       "9"
      ]
     },
     "execution_count": 41,
     "metadata": {},
     "output_type": "execute_result"
    }
   ],
   "source": [
    "#len(sent_tokenize(crude_article))"
   ]
  },
  {
   "cell_type": "code",
   "execution_count": 102,
   "metadata": {},
   "outputs": [],
   "source": [
    "sw = set(stopwords.words('english'))\n",
    "sw_addon = {'said', 'mln', 'kilolitres','kl', 'also', 'could','would'}\n",
    "sw_union = sw.union(sw_addon)"
   ]
  },
  {
   "cell_type": "code",
   "execution_count": 228,
   "metadata": {},
   "outputs": [],
   "source": [
    " # define stopwording and regex \n",
    "def process_text(article, swu):\n",
    "    #t_sentence = sent_tokenize(article)\n",
    "    regex = re.compile(\"[^a-zA-Z ]\")\n",
    "    re_clean = regex.sub('', article)\n",
    "    text_clean=[]\n",
    "    #for sent in t_sentence:\n",
    "    t_word=word_tokenize(re_clean)\n",
    "    first_pass= [word.lower() for word in t_word if word.lower() not in swu]\n",
    "    txt_out = [lemmatizer.lemmatize(word, pos='a') for word in first_pass if len(word)>2]\n",
    "    #text_clean.append([regex.sub('', word) for word in sec_pass])\n",
    "    return txt_out"
   ]
  },
  {
   "cell_type": "code",
   "execution_count": 229,
   "metadata": {},
   "outputs": [
    {
     "data": {
      "text/plain": [
       "['japan',\n",
       " 'revise',\n",
       " 'longterm',\n",
       " 'energy',\n",
       " 'demand',\n",
       " 'downwards',\n",
       " 'ministry',\n",
       " 'international',\n",
       " 'trade',\n",
       " 'industry']"
      ]
     },
     "execution_count": 229,
     "metadata": {},
     "output_type": "execute_result"
    }
   ],
   "source": [
    "tokenized_article = process_text(big_string, sw_union)\n",
    "tokenized_article[:10]"
   ]
  },
  {
   "cell_type": "code",
   "execution_count": 213,
   "metadata": {},
   "outputs": [],
   "source": [
    "from collections import Counter"
   ]
  },
  {
   "cell_type": "code",
   "execution_count": 230,
   "metadata": {},
   "outputs": [
    {
     "data": {
      "text/plain": [
       "[('oil', 2208),\n",
       " ('dlrs', 751),\n",
       " ('crude', 645),\n",
       " ('pct', 583),\n",
       " ('prices', 578),\n",
       " ('bpd', 474),\n",
       " ('opec', 467),\n",
       " ('barrels', 403),\n",
       " ('year', 395),\n",
       " ('production', 385),\n",
       " ('last', 383),\n",
       " ('gas', 304),\n",
       " ('barrel', 304),\n",
       " ('price', 303),\n",
       " ('energy', 287),\n",
       " ('gulf', 280),\n",
       " ('company', 273),\n",
       " ('billion', 268),\n",
       " ('petroleum', 258),\n",
       " ('one', 246)]"
      ]
     },
     "execution_count": 230,
     "metadata": {},
     "output_type": "execute_result"
    }
   ],
   "source": [
    "word_counts = Counter(tokenized_article)\n",
    "word_counts.most_common(20)"
   ]
  },
  {
   "cell_type": "code",
   "execution_count": 232,
   "metadata": {},
   "outputs": [],
   "source": [
    "bigram_counts = Counter(ngrams(tokenized_article, n=2))\n",
    "#bigram_counts.items()"
   ]
  },
  {
   "cell_type": "code",
   "execution_count": 233,
   "metadata": {},
   "outputs": [
    {
     "data": {
      "text/plain": [
       "[(('crude', 'oil'), 340),\n",
       " (('oil', 'prices'), 203),\n",
       " (('dlrs', 'barrel'), 175),\n",
       " (('per', 'day'), 122),\n",
       " (('billion', 'dlrs'), 114),\n",
       " (('oil', 'gas'), 114),\n",
       " (('last', 'year'), 112),\n",
       " (('barrels', 'per'), 105),\n",
       " (('saudi', 'arabia'), 104),\n",
       " (('natural', 'gas'), 100)]"
      ]
     },
     "execution_count": 233,
     "metadata": {},
     "output_type": "execute_result"
    }
   ],
   "source": [
    "bigram_counts.most_common(10)"
   ]
  },
  {
   "cell_type": "code",
   "execution_count": 234,
   "metadata": {},
   "outputs": [],
   "source": [
    "bigram_df = pd.DataFrame({'bigram': [key for key in bigram_counts.keys()], \n",
    "                          'frequency': [val for val in bigram_counts.values()]}, \n",
    "                           index=range(0, len(bigram_counts.keys())))"
   ]
  },
  {
   "cell_type": "code",
   "execution_count": 235,
   "metadata": {},
   "outputs": [
    {
     "data": {
      "text/html": [
       "<div>\n",
       "<style scoped>\n",
       "    .dataframe tbody tr th:only-of-type {\n",
       "        vertical-align: middle;\n",
       "    }\n",
       "\n",
       "    .dataframe tbody tr th {\n",
       "        vertical-align: top;\n",
       "    }\n",
       "\n",
       "    .dataframe thead th {\n",
       "        text-align: right;\n",
       "    }\n",
       "</style>\n",
       "<table border=\"1\" class=\"dataframe\">\n",
       "  <thead>\n",
       "    <tr style=\"text-align: right;\">\n",
       "      <th></th>\n",
       "      <th>bigram</th>\n",
       "      <th>frequency</th>\n",
       "    </tr>\n",
       "  </thead>\n",
       "  <tbody>\n",
       "    <tr>\n",
       "      <th>935</th>\n",
       "      <td>(crude, oil)</td>\n",
       "      <td>340</td>\n",
       "    </tr>\n",
       "    <tr>\n",
       "      <th>248</th>\n",
       "      <td>(oil, prices)</td>\n",
       "      <td>203</td>\n",
       "    </tr>\n",
       "    <tr>\n",
       "      <th>251</th>\n",
       "      <td>(dlrs, barrel)</td>\n",
       "      <td>175</td>\n",
       "    </tr>\n",
       "    <tr>\n",
       "      <th>1141</th>\n",
       "      <td>(per, day)</td>\n",
       "      <td>122</td>\n",
       "    </tr>\n",
       "    <tr>\n",
       "      <th>286</th>\n",
       "      <td>(billion, dlrs)</td>\n",
       "      <td>114</td>\n",
       "    </tr>\n",
       "    <tr>\n",
       "      <th>831</th>\n",
       "      <td>(oil, gas)</td>\n",
       "      <td>114</td>\n",
       "    </tr>\n",
       "    <tr>\n",
       "      <th>242</th>\n",
       "      <td>(last, year)</td>\n",
       "      <td>112</td>\n",
       "    </tr>\n",
       "    <tr>\n",
       "      <th>1140</th>\n",
       "      <td>(barrels, per)</td>\n",
       "      <td>105</td>\n",
       "    </tr>\n",
       "    <tr>\n",
       "      <th>2927</th>\n",
       "      <td>(saudi, arabia)</td>\n",
       "      <td>104</td>\n",
       "    </tr>\n",
       "    <tr>\n",
       "      <th>68</th>\n",
       "      <td>(natural, gas)</td>\n",
       "      <td>100</td>\n",
       "    </tr>\n",
       "  </tbody>\n",
       "</table>\n",
       "</div>"
      ],
      "text/plain": [
       "               bigram  frequency\n",
       "935      (crude, oil)        340\n",
       "248     (oil, prices)        203\n",
       "251    (dlrs, barrel)        175\n",
       "1141       (per, day)        122\n",
       "286   (billion, dlrs)        114\n",
       "831        (oil, gas)        114\n",
       "242      (last, year)        112\n",
       "1140   (barrels, per)        105\n",
       "2927  (saudi, arabia)        104\n",
       "68     (natural, gas)        100"
      ]
     },
     "execution_count": 235,
     "metadata": {},
     "output_type": "execute_result"
    }
   ],
   "source": [
    "bigram_df.nlargest(10, 'frequency')"
   ]
  },
  {
   "cell_type": "code",
   "execution_count": 236,
   "metadata": {},
   "outputs": [],
   "source": [
    "input_text = ' '.join(process_text(big_string, sw_union))\n"
   ]
  },
  {
   "cell_type": "code",
   "execution_count": 237,
   "metadata": {},
   "outputs": [
    {
     "data": {
      "text/plain": [
       "<matplotlib.image.AxesImage at 0x1d7380c02c8>"
      ]
     },
     "execution_count": 237,
     "metadata": {},
     "output_type": "execute_result"
    },
    {
     "data": {
      "image/png": "[encoded data removed]",
      "text/plain": [
       "<Figure size 432x288 with 1 Axes>"
      ]
     },
     "metadata": {
      "needs_background": "light"
     },
     "output_type": "display_data"
    }
   ],
   "source": [
    "wc = WordCloud(width=1200, height=800, max_words=50).generate(input_text)\n",
    "plt.imshow(wc)"
   ]
  },
  {
   "cell_type": "code",
   "execution_count": null,
   "metadata": {},
   "outputs": [],
   "source": []
  }
 ],
 "metadata": {
  "kernelspec": {
   "display_name": "Python 3",
   "language": "python",
   "name": "python3"
  },
  "language_info": {
   "codemirror_mode": {
    "name": "ipython",
    "version": 3
   },
   "file_extension": ".py",
   "mimetype": "text/x-python",
   "name": "python",
   "nbconvert_exporter": "python",
   "pygments_lexer": "ipython3",
   "version": "3.7.6"
  }
 },
 "nbformat": 4,
 "nbformat_minor": 4
}
