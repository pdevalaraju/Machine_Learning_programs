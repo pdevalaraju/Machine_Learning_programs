{
 "cells": [
  {
   "cell_type": "markdown",
   "metadata": {},
   "source": [
    "# Predicting Loan Default with Random Forests\n",
    "\n",
    "In this notebook, we are going to explore how random forest algorithm can be used to identify loans that are likely to default. We will use the `sba_loans_encoded.csv` file that was created before to train the model"
   ]
  },
  {
   "cell_type": "code",
   "execution_count": 55,
   "metadata": {},
   "outputs": [],
   "source": [
    "# Initial imports\n",
    "import pandas as pd\n",
    "from pathlib import Path\n",
    "from sklearn.ensemble import RandomForestClassifier\n",
    "from sklearn.preprocessing import StandardScaler\n",
    "from sklearn.model_selection import train_test_split\n",
    "from sklearn.metrics import confusion_matrix, accuracy_score, classification_report\n"
   ]
  },
  {
   "cell_type": "markdown",
   "metadata": {},
   "source": [
    "## Loading and Preprocessing Loans Encoded Data\n",
    "\n",
    "Load the `sba_loans_encoded.csv` in a pandas DataFrame called `df_loans`"
   ]
  },
  {
   "cell_type": "code",
   "execution_count": 56,
   "metadata": {},
   "outputs": [
    {
     "data": {
      "text/html": [
       "<div>\n",
       "<style scoped>\n",
       "    .dataframe tbody tr th:only-of-type {\n",
       "        vertical-align: middle;\n",
       "    }\n",
       "\n",
       "    .dataframe tbody tr th {\n",
       "        vertical-align: top;\n",
       "    }\n",
       "\n",
       "    .dataframe thead th {\n",
       "        text-align: right;\n",
       "    }\n",
       "</style>\n",
       "<table border=\"1\" class=\"dataframe\">\n",
       "  <thead>\n",
       "    <tr style=\"text-align: right;\">\n",
       "      <th></th>\n",
       "      <th>Unnamed: 0</th>\n",
       "      <th>Year</th>\n",
       "      <th>Amount</th>\n",
       "      <th>Term</th>\n",
       "      <th>Zip</th>\n",
       "      <th>CreateJob</th>\n",
       "      <th>NoEmp</th>\n",
       "      <th>RealEstate</th>\n",
       "      <th>RevLineCr</th>\n",
       "      <th>UrbanRural</th>\n",
       "      <th>...</th>\n",
       "      <th>City_WILLITS</th>\n",
       "      <th>City_WILMINGTON</th>\n",
       "      <th>City_WINDSOR</th>\n",
       "      <th>City_WINNETKA</th>\n",
       "      <th>City_WOODLAND</th>\n",
       "      <th>City_WOODLAND HILLS</th>\n",
       "      <th>City_WRIGHTWOOD</th>\n",
       "      <th>City_Watsonville</th>\n",
       "      <th>City_YORBA LINDA</th>\n",
       "      <th>City_YUBA CITY</th>\n",
       "    </tr>\n",
       "  </thead>\n",
       "  <tbody>\n",
       "    <tr>\n",
       "      <th>0</th>\n",
       "      <td>0</td>\n",
       "      <td>2001</td>\n",
       "      <td>32812</td>\n",
       "      <td>36</td>\n",
       "      <td>92801</td>\n",
       "      <td>0</td>\n",
       "      <td>1</td>\n",
       "      <td>0</td>\n",
       "      <td>1</td>\n",
       "      <td>0</td>\n",
       "      <td>...</td>\n",
       "      <td>0</td>\n",
       "      <td>0</td>\n",
       "      <td>0</td>\n",
       "      <td>0</td>\n",
       "      <td>0</td>\n",
       "      <td>0</td>\n",
       "      <td>0</td>\n",
       "      <td>0</td>\n",
       "      <td>0</td>\n",
       "      <td>0</td>\n",
       "    </tr>\n",
       "    <tr>\n",
       "      <th>1</th>\n",
       "      <td>1</td>\n",
       "      <td>2001</td>\n",
       "      <td>30000</td>\n",
       "      <td>56</td>\n",
       "      <td>90505</td>\n",
       "      <td>0</td>\n",
       "      <td>1</td>\n",
       "      <td>0</td>\n",
       "      <td>1</td>\n",
       "      <td>0</td>\n",
       "      <td>...</td>\n",
       "      <td>0</td>\n",
       "      <td>0</td>\n",
       "      <td>0</td>\n",
       "      <td>0</td>\n",
       "      <td>0</td>\n",
       "      <td>0</td>\n",
       "      <td>0</td>\n",
       "      <td>0</td>\n",
       "      <td>0</td>\n",
       "      <td>0</td>\n",
       "    </tr>\n",
       "    <tr>\n",
       "      <th>2</th>\n",
       "      <td>2</td>\n",
       "      <td>2001</td>\n",
       "      <td>30000</td>\n",
       "      <td>36</td>\n",
       "      <td>92103</td>\n",
       "      <td>0</td>\n",
       "      <td>10</td>\n",
       "      <td>0</td>\n",
       "      <td>1</td>\n",
       "      <td>0</td>\n",
       "      <td>...</td>\n",
       "      <td>0</td>\n",
       "      <td>0</td>\n",
       "      <td>0</td>\n",
       "      <td>0</td>\n",
       "      <td>0</td>\n",
       "      <td>0</td>\n",
       "      <td>0</td>\n",
       "      <td>0</td>\n",
       "      <td>0</td>\n",
       "      <td>0</td>\n",
       "    </tr>\n",
       "    <tr>\n",
       "      <th>3</th>\n",
       "      <td>3</td>\n",
       "      <td>2003</td>\n",
       "      <td>50000</td>\n",
       "      <td>36</td>\n",
       "      <td>92108</td>\n",
       "      <td>0</td>\n",
       "      <td>6</td>\n",
       "      <td>0</td>\n",
       "      <td>1</td>\n",
       "      <td>0</td>\n",
       "      <td>...</td>\n",
       "      <td>0</td>\n",
       "      <td>0</td>\n",
       "      <td>0</td>\n",
       "      <td>0</td>\n",
       "      <td>0</td>\n",
       "      <td>0</td>\n",
       "      <td>0</td>\n",
       "      <td>0</td>\n",
       "      <td>0</td>\n",
       "      <td>0</td>\n",
       "    </tr>\n",
       "    <tr>\n",
       "      <th>4</th>\n",
       "      <td>4</td>\n",
       "      <td>2006</td>\n",
       "      <td>343000</td>\n",
       "      <td>240</td>\n",
       "      <td>91345</td>\n",
       "      <td>3</td>\n",
       "      <td>65</td>\n",
       "      <td>1</td>\n",
       "      <td>0</td>\n",
       "      <td>2</td>\n",
       "      <td>...</td>\n",
       "      <td>0</td>\n",
       "      <td>0</td>\n",
       "      <td>0</td>\n",
       "      <td>0</td>\n",
       "      <td>0</td>\n",
       "      <td>0</td>\n",
       "      <td>0</td>\n",
       "      <td>0</td>\n",
       "      <td>0</td>\n",
       "      <td>0</td>\n",
       "    </tr>\n",
       "  </tbody>\n",
       "</table>\n",
       "<p>5 rows × 685 columns</p>\n",
       "</div>"
      ],
      "text/plain": [
       "   Unnamed: 0  Year  Amount  Term    Zip  CreateJob  NoEmp  RealEstate  \\\n",
       "0           0  2001   32812    36  92801          0      1           0   \n",
       "1           1  2001   30000    56  90505          0      1           0   \n",
       "2           2  2001   30000    36  92103          0     10           0   \n",
       "3           3  2003   50000    36  92108          0      6           0   \n",
       "4           4  2006  343000   240  91345          3     65           1   \n",
       "\n",
       "   RevLineCr  UrbanRural  ...  City_WILLITS  City_WILMINGTON  City_WINDSOR  \\\n",
       "0          1           0  ...             0                0             0   \n",
       "1          1           0  ...             0                0             0   \n",
       "2          1           0  ...             0                0             0   \n",
       "3          1           0  ...             0                0             0   \n",
       "4          0           2  ...             0                0             0   \n",
       "\n",
       "   City_WINNETKA  City_WOODLAND  City_WOODLAND HILLS  City_WRIGHTWOOD  \\\n",
       "0              0              0                    0                0   \n",
       "1              0              0                    0                0   \n",
       "2              0              0                    0                0   \n",
       "3              0              0                    0                0   \n",
       "4              0              0                    0                0   \n",
       "\n",
       "   City_Watsonville  City_YORBA LINDA  City_YUBA CITY  \n",
       "0                 0                 0               0  \n",
       "1                 0                 0               0  \n",
       "2                 0                 0               0  \n",
       "3                 0                 0               0  \n",
       "4                 0                 0               0  \n",
       "\n",
       "[5 rows x 685 columns]"
      ]
     },
     "execution_count": 56,
     "metadata": {},
     "output_type": "execute_result"
    }
   ],
   "source": [
    "# Loading data\n",
    "df_loans = pd.read_csv(Path('../Resources/sba_loans_encoded.csv'))\n",
    "df_loans.head()"
   ]
  },
  {
   "cell_type": "markdown",
   "metadata": {},
   "source": [
    "Define the features set, by copying the `df_loans` DataFrame and dropping the `Default` column."
   ]
  },
  {
   "cell_type": "code",
   "execution_count": 57,
   "metadata": {},
   "outputs": [],
   "source": [
    "# Define features set\n",
    "X=df_loans.drop('Default', axis=1).drop('Unnamed: 0', axis=1)"
   ]
  },
  {
   "cell_type": "markdown",
   "metadata": {},
   "source": [
    "Create the target vector by assigning the values of the `Default` column from the `df_loans` DataFrame."
   ]
  },
  {
   "cell_type": "code",
   "execution_count": 58,
   "metadata": {},
   "outputs": [
    {
     "data": {
      "text/plain": [
       "array([0, 0, 0, 0, 0], dtype=int64)"
      ]
     },
     "execution_count": 58,
     "metadata": {},
     "output_type": "execute_result"
    }
   ],
   "source": [
    "# Define target vector\n",
    "y=df_loans['Default'].ravel()\n",
    "y[:5]"
   ]
  },
  {
   "cell_type": "markdown",
   "metadata": {},
   "source": [
    "Split the data into training and testing sets."
   ]
  },
  {
   "cell_type": "code",
   "execution_count": 59,
   "metadata": {},
   "outputs": [],
   "source": [
    "# Splitting into Train and Test sets\n",
    "X_train, X_test, y_train, y_test = train_test_split(X, y, random_state=78)"
   ]
  },
  {
   "cell_type": "markdown",
   "metadata": {},
   "source": [
    "Use the `StandardScaler` to scale the features data, remember that only `X_train` and `X_testing` DataFrames should be scaled."
   ]
  },
  {
   "cell_type": "code",
   "execution_count": 60,
   "metadata": {},
   "outputs": [],
   "source": [
    "# Create the StandardScaler instance\n",
    "std_scaler=StandardScaler()\n",
    "\n",
    "# Fit the Standard Scaler with the training data\n",
    "std_scaler.fit(X_train)\n",
    "\n",
    "# Scale the training data\n",
    "X_train_scaled=std_scaler.transform(X_train)\n",
    "X_test_scaled = std_scaler.transform(X_test)"
   ]
  },
  {
   "cell_type": "markdown",
   "metadata": {},
   "source": [
    "## Fitting the Random Forest Model\n",
    "\n",
    "Once data is scaled, create a random forest instance and train it with the training data (`X_train_scaled` and `y_train`), define `n_estimators=500` and `random_state=78`."
   ]
  },
  {
   "cell_type": "code",
   "execution_count": 61,
   "metadata": {},
   "outputs": [],
   "source": [
    "# Create the random forest classifier instance\n",
    "rf_clf = RandomForestClassifier(n_estimators=300, random_state=78)\n",
    "\n",
    "# Fit the model\n",
    "rf_model = rf_clf.fit(X_train_scaled, y_train)"
   ]
  },
  {
   "cell_type": "markdown",
   "metadata": {},
   "source": [
    "## Making Predictions Using the Random Forest Model\n",
    "\n",
    "Validate the trained model, by predicting loan defaults using the testing data (`X_test_scaled`)."
   ]
  },
  {
   "cell_type": "code",
   "execution_count": 62,
   "metadata": {},
   "outputs": [],
   "source": [
    "# Making predictions using the testing data\n",
    "\n",
    "predictions = rf_model.predict(X_test_scaled)"
   ]
  },
  {
   "cell_type": "markdown",
   "metadata": {},
   "source": [
    "## Model Evaluation\n",
    "\n",
    "Evaluate model's results, by using `sklearn` to calculate the confusion matrix, the accuracy score and to generate the classification report."
   ]
  },
  {
   "cell_type": "code",
   "execution_count": 63,
   "metadata": {},
   "outputs": [],
   "source": [
    "# Calculating the confusion matrix\n",
    "c_matrix = pd.DataFrame(confusion_matrix(y_test, predictions), columns=['Predicted_0', 'Predicted_1'], index=['Actual_0', 'Actual_1'])\n",
    "\n",
    "# Calculating the accuracy score\n",
    "acc_score=accuracy_score(y_test, predictions)\n",
    "\n",
    "#create claassification Report\n",
    "c_report = classification_report(y_test, predictions)"
   ]
  },
  {
   "cell_type": "code",
   "execution_count": 64,
   "metadata": {},
   "outputs": [
    {
     "name": "stdout",
     "output_type": "stream",
     "text": [
      "          Predicted_0  Predicted_1\n",
      "Actual_0          331           13\n",
      "Actual_1           37          144\n",
      "\n",
      "Accuracy of Random Forest Model is: 0.9047619047619048\n",
      "              precision    recall  f1-score   support\n",
      "\n",
      "           0       0.90      0.96      0.93       344\n",
      "           1       0.92      0.80      0.85       181\n",
      "\n",
      "    accuracy                           0.90       525\n",
      "   macro avg       0.91      0.88      0.89       525\n",
      "weighted avg       0.91      0.90      0.90       525\n",
      "\n"
     ]
    }
   ],
   "source": [
    "# Displaying results\n",
    "print(c_matrix)\n",
    "print (\"\\nAccuracy of Random Forest Model is: \" + f'{acc_score}')\n",
    "print(c_report)"
   ]
  },
  {
   "cell_type": "markdown",
   "metadata": {},
   "source": [
    "## Feature Importance\n",
    "\n",
    "In this section, you are asked to fetch the features' importance from the random forest model and display the top 10 most important features."
   ]
  },
  {
   "cell_type": "code",
   "execution_count": 65,
   "metadata": {},
   "outputs": [],
   "source": [
    "# Random Forests in sklearn will automatically calculate feature importance\n",
    "importances = rf_model.feature_importances_\n",
    "\n",
    "# capture the feature importance in dataframe\n",
    "importances_df = pd.DataFrame(sorted(zip(rf_model.feature_importances_, X.columns), reverse=True))\n",
    "top_10_features = importances_df[:10] "
   ]
  },
  {
   "cell_type": "code",
   "execution_count": 66,
   "metadata": {},
   "outputs": [
    {
     "data": {
      "text/plain": [
       "<matplotlib.axes._subplots.AxesSubplot at 0x20b12c5b288>"
      ]
     },
     "execution_count": 66,
     "metadata": {},
     "output_type": "execute_result"
    },
    {
     "data": {
      "image/png": "[encoded data removed]",
      "text/plain": [
       "<Figure size 432x288 with 1 Axes>"
      ]
     },
     "metadata": {
      "needs_background": "light"
     },
     "output_type": "display_data"
    }
   ],
   "source": [
    "# Visualize the features by importance\n",
    "importances_df.set_index(importances_df[1], inplace=True)\n",
    "importances_df.drop(columns=1, inplace=True)\n",
    "importances_df.rename(columns={0: 'Feature Importances'}, inplace=True)\n",
    "importances_sorted = importances_df[:10].sort_values(by='Feature Importances')\n",
    "importances_sorted.plot(kind='barh', color='lightgreen', title= 'Features Importances', legend=False)"
   ]
  },
  {
   "cell_type": "markdown",
   "metadata": {},
   "source": [
    "## Analysis Questions\n",
    "\n",
    "* **Question 1:** Would you trust in this model to deploy a loan default solution in a bank?\n",
    "\n",
    " * **Answer** Model's accuracy is better than using decision trees, so if we want to deploy a default prevention solution for loans in a Bank, we would trust in random forest more than in decision trees.\n",
    "\n",
    "\n",
    "\n",
    "\n",
    "* **Question 2:** What are your insights about the top 10 most importance features?\n",
    "\n",
    " * **Answer** It seems that the Bank is not relevant for the model, so we can create a new random forest model by only taking these top 10 features. Also, for piloting this model in a business environment, we will only need to fetch new data about these 10 features."
   ]
  },
  {
   "cell_type": "code",
   "execution_count": null,
   "metadata": {},
   "outputs": [],
   "source": []
  }
 ],
 "metadata": {
  "file_extension": ".py",
  "kernelspec": {
   "display_name": "Python 3",
   "language": "python",
   "name": "python3"
  },
  "language_info": {
   "codemirror_mode": {
    "name": "ipython",
    "version": 3
   },
   "file_extension": ".py",
   "mimetype": "text/x-python",
   "name": "python",
   "nbconvert_exporter": "python",
   "pygments_lexer": "ipython3",
   "version": "3.7.6"
  },
  "mimetype": "text/x-python",
  "name": "python",
  "npconvert_exporter": "python",
  "pygments_lexer": "ipython3",
  "version": 3
 },
 "nbformat": 4,
 "nbformat_minor": 4
}
