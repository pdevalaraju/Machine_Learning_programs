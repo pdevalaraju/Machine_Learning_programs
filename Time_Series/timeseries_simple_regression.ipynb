{
 "cells": [
  {
   "cell_type": "markdown",
   "metadata": {},
   "source": [
    "# Linear Regression Error and Accuracy Metrics"
   ]
  },
  {
   "cell_type": "code",
   "execution_count": 1,
   "metadata": {},
   "outputs": [],
   "source": [
    "import pandas as pd\n",
    "from sklearn.linear_model import LinearRegression\n",
    "import matplotlib.pyplot as plt\n",
    "%matplotlib inline"
   ]
  },
  {
   "cell_type": "markdown",
   "metadata": {},
   "source": [
    "# Import Data"
   ]
  },
  {
   "cell_type": "code",
   "execution_count": 2,
   "metadata": {},
   "outputs": [
    {
     "data": {
      "text/html": [
       "<div>\n",
       "<style scoped>\n",
       "    .dataframe tbody tr th:only-of-type {\n",
       "        vertical-align: middle;\n",
       "    }\n",
       "\n",
       "    .dataframe tbody tr th {\n",
       "        vertical-align: top;\n",
       "    }\n",
       "\n",
       "    .dataframe thead th {\n",
       "        text-align: right;\n",
       "    }\n",
       "</style>\n",
       "<table border=\"1\" class=\"dataframe\">\n",
       "  <thead>\n",
       "    <tr style=\"text-align: right;\">\n",
       "      <th></th>\n",
       "      <th>Temperature</th>\n",
       "      <th>DewPoint</th>\n",
       "      <th>Pressure</th>\n",
       "    </tr>\n",
       "    <tr>\n",
       "      <th>Date</th>\n",
       "      <th></th>\n",
       "      <th></th>\n",
       "      <th></th>\n",
       "    </tr>\n",
       "  </thead>\n",
       "  <tbody>\n",
       "    <tr>\n",
       "      <th>2010-01-01 00:00:00</th>\n",
       "      <td>46.2</td>\n",
       "      <td>37.5</td>\n",
       "      <td>1.0</td>\n",
       "    </tr>\n",
       "    <tr>\n",
       "      <th>2010-01-01 01:00:00</th>\n",
       "      <td>44.6</td>\n",
       "      <td>37.1</td>\n",
       "      <td>1.0</td>\n",
       "    </tr>\n",
       "    <tr>\n",
       "      <th>2010-01-01 02:00:00</th>\n",
       "      <td>44.1</td>\n",
       "      <td>36.9</td>\n",
       "      <td>1.0</td>\n",
       "    </tr>\n",
       "    <tr>\n",
       "      <th>2010-01-01 03:00:00</th>\n",
       "      <td>43.8</td>\n",
       "      <td>36.9</td>\n",
       "      <td>1.0</td>\n",
       "    </tr>\n",
       "    <tr>\n",
       "      <th>2010-01-01 04:00:00</th>\n",
       "      <td>43.5</td>\n",
       "      <td>36.8</td>\n",
       "      <td>1.0</td>\n",
       "    </tr>\n",
       "  </tbody>\n",
       "</table>\n",
       "</div>"
      ],
      "text/plain": [
       "                     Temperature  DewPoint  Pressure\n",
       "Date                                                \n",
       "2010-01-01 00:00:00         46.2      37.5       1.0\n",
       "2010-01-01 01:00:00         44.6      37.1       1.0\n",
       "2010-01-01 02:00:00         44.1      36.9       1.0\n",
       "2010-01-01 03:00:00         43.8      36.9       1.0\n",
       "2010-01-01 04:00:00         43.5      36.8       1.0"
      ]
     },
     "execution_count": 2,
     "metadata": {},
     "output_type": "execute_result"
    }
   ],
   "source": [
    "from pathlib import Path\n",
    "\n",
    "csvpath = Path('../Resources/weather_data_austin_2010.csv')\n",
    "df = pd.read_csv(csvpath, parse_dates=True, index_col='Date')\n",
    "df.head()"
   ]
  },
  {
   "cell_type": "code",
   "execution_count": 68,
   "metadata": {},
   "outputs": [
    {
     "data": {
      "text/html": [
       "<div>\n",
       "<style scoped>\n",
       "    .dataframe tbody tr th:only-of-type {\n",
       "        vertical-align: middle;\n",
       "    }\n",
       "\n",
       "    .dataframe tbody tr th {\n",
       "        vertical-align: top;\n",
       "    }\n",
       "\n",
       "    .dataframe thead th {\n",
       "        text-align: right;\n",
       "    }\n",
       "</style>\n",
       "<table border=\"1\" class=\"dataframe\">\n",
       "  <thead>\n",
       "    <tr style=\"text-align: right;\">\n",
       "      <th></th>\n",
       "      <th>Temperature</th>\n",
       "      <th>DewPoint</th>\n",
       "      <th>Pressure</th>\n",
       "    </tr>\n",
       "    <tr>\n",
       "      <th>Date</th>\n",
       "      <th></th>\n",
       "      <th></th>\n",
       "      <th></th>\n",
       "    </tr>\n",
       "  </thead>\n",
       "  <tbody>\n",
       "    <tr>\n",
       "      <th>2010-05-01 00:00:00</th>\n",
       "      <td>67.6</td>\n",
       "      <td>60.9</td>\n",
       "      <td>1.0</td>\n",
       "    </tr>\n",
       "    <tr>\n",
       "      <th>2010-05-01 01:00:00</th>\n",
       "      <td>66.4</td>\n",
       "      <td>61.0</td>\n",
       "      <td>1.0</td>\n",
       "    </tr>\n",
       "    <tr>\n",
       "      <th>2010-05-01 02:00:00</th>\n",
       "      <td>65.6</td>\n",
       "      <td>60.6</td>\n",
       "      <td>1.0</td>\n",
       "    </tr>\n",
       "    <tr>\n",
       "      <th>2010-05-01 03:00:00</th>\n",
       "      <td>65.0</td>\n",
       "      <td>60.4</td>\n",
       "      <td>1.0</td>\n",
       "    </tr>\n",
       "    <tr>\n",
       "      <th>2010-05-01 04:00:00</th>\n",
       "      <td>64.7</td>\n",
       "      <td>60.4</td>\n",
       "      <td>1.0</td>\n",
       "    </tr>\n",
       "  </tbody>\n",
       "</table>\n",
       "</div>"
      ],
      "text/plain": [
       "                     Temperature  DewPoint  Pressure\n",
       "Date                                                \n",
       "2010-05-01 00:00:00         67.6      60.9       1.0\n",
       "2010-05-01 01:00:00         66.4      61.0       1.0\n",
       "2010-05-01 02:00:00         65.6      60.6       1.0\n",
       "2010-05-01 03:00:00         65.0      60.4       1.0\n",
       "2010-05-01 04:00:00         64.7      60.4       1.0"
      ]
     },
     "execution_count": 68,
     "metadata": {},
     "output_type": "execute_result"
    }
   ],
   "source": [
    "df = df.loc['2010 May':'2010 Jul']\n",
    "df.head()"
   ]
  },
  {
   "cell_type": "code",
   "execution_count": 84,
   "metadata": {},
   "outputs": [],
   "source": [
    "df['weekofyear'] = df.index.weekofyear"
   ]
  },
  {
   "cell_type": "code",
   "execution_count": 69,
   "metadata": {},
   "outputs": [
    {
     "data": {
      "text/plain": [
       "<AxesSubplot:xlabel='Date'>"
      ]
     },
     "execution_count": 69,
     "metadata": {},
     "output_type": "execute_result"
    },
    {
     "data": {
      "image/png": "[encoded data removed]",
      "text/plain": [
       "<Figure size 432x288 with 1 Axes>"
      ]
     },
     "metadata": {
      "needs_background": "light"
     },
     "output_type": "display_data"
    }
   ],
   "source": [
    "df['Temperature'].plot()"
   ]
  },
  {
   "cell_type": "markdown",
   "metadata": {},
   "source": [
    "# Set Features (X) and Target (y)\n",
    "\n",
    "In this example, we want to use the week of the year to predict the temperature"
   ]
  },
  {
   "cell_type": "code",
   "execution_count": 70,
   "metadata": {},
   "outputs": [
    {
     "name": "stdout",
     "output_type": "stream",
     "text": [
      "X has 2208 rows and 1 column of data.\n"
     ]
    },
    {
     "data": {
      "text/html": [
       "<div>\n",
       "<style scoped>\n",
       "    .dataframe tbody tr th:only-of-type {\n",
       "        vertical-align: middle;\n",
       "    }\n",
       "\n",
       "    .dataframe tbody tr th {\n",
       "        vertical-align: top;\n",
       "    }\n",
       "\n",
       "    .dataframe thead th {\n",
       "        text-align: right;\n",
       "    }\n",
       "</style>\n",
       "<table border=\"1\" class=\"dataframe\">\n",
       "  <thead>\n",
       "    <tr style=\"text-align: right;\">\n",
       "      <th></th>\n",
       "      <th>Temperature</th>\n",
       "    </tr>\n",
       "    <tr>\n",
       "      <th>Date</th>\n",
       "      <th></th>\n",
       "    </tr>\n",
       "  </thead>\n",
       "  <tbody>\n",
       "    <tr>\n",
       "      <th>2010-05-01 00:00:00</th>\n",
       "      <td>67.6</td>\n",
       "    </tr>\n",
       "    <tr>\n",
       "      <th>2010-05-01 01:00:00</th>\n",
       "      <td>66.4</td>\n",
       "    </tr>\n",
       "    <tr>\n",
       "      <th>2010-05-01 02:00:00</th>\n",
       "      <td>65.6</td>\n",
       "    </tr>\n",
       "    <tr>\n",
       "      <th>2010-05-01 03:00:00</th>\n",
       "      <td>65.0</td>\n",
       "    </tr>\n",
       "    <tr>\n",
       "      <th>2010-05-01 04:00:00</th>\n",
       "      <td>64.7</td>\n",
       "    </tr>\n",
       "  </tbody>\n",
       "</table>\n",
       "</div>"
      ],
      "text/plain": [
       "                     Temperature\n",
       "Date                            \n",
       "2010-05-01 00:00:00         67.6\n",
       "2010-05-01 01:00:00         66.4\n",
       "2010-05-01 02:00:00         65.6\n",
       "2010-05-01 03:00:00         65.0\n",
       "2010-05-01 04:00:00         64.7"
      ]
     },
     "execution_count": 70,
     "metadata": {},
     "output_type": "execute_result"
    }
   ],
   "source": [
    "# Create a DataFrame of the input features (X)\n",
    "# Export the Temperature column as a DataFrame\n",
    "X = df['Temperature'].to_frame().dropna()\n",
    "print(f\"X has {X.shape[0]} rows and {X.shape[1]} column of data.\")\n",
    "X.head()"
   ]
  },
  {
   "cell_type": "code",
   "execution_count": 71,
   "metadata": {},
   "outputs": [
    {
     "data": {
      "text/html": [
       "<div>\n",
       "<style scoped>\n",
       "    .dataframe tbody tr th:only-of-type {\n",
       "        vertical-align: middle;\n",
       "    }\n",
       "\n",
       "    .dataframe tbody tr th {\n",
       "        vertical-align: top;\n",
       "    }\n",
       "\n",
       "    .dataframe thead th {\n",
       "        text-align: right;\n",
       "    }\n",
       "</style>\n",
       "<table border=\"1\" class=\"dataframe\">\n",
       "  <thead>\n",
       "    <tr style=\"text-align: right;\">\n",
       "      <th></th>\n",
       "      <th>Temperature</th>\n",
       "      <th>Week_of_Year</th>\n",
       "    </tr>\n",
       "    <tr>\n",
       "      <th>Date</th>\n",
       "      <th></th>\n",
       "      <th></th>\n",
       "    </tr>\n",
       "  </thead>\n",
       "  <tbody>\n",
       "    <tr>\n",
       "      <th>2010-05-01 00:00:00</th>\n",
       "      <td>67.6</td>\n",
       "      <td>17</td>\n",
       "    </tr>\n",
       "    <tr>\n",
       "      <th>2010-05-01 01:00:00</th>\n",
       "      <td>66.4</td>\n",
       "      <td>17</td>\n",
       "    </tr>\n",
       "    <tr>\n",
       "      <th>2010-05-01 02:00:00</th>\n",
       "      <td>65.6</td>\n",
       "      <td>17</td>\n",
       "    </tr>\n",
       "    <tr>\n",
       "      <th>2010-05-01 03:00:00</th>\n",
       "      <td>65.0</td>\n",
       "      <td>17</td>\n",
       "    </tr>\n",
       "    <tr>\n",
       "      <th>2010-05-01 04:00:00</th>\n",
       "      <td>64.7</td>\n",
       "      <td>17</td>\n",
       "    </tr>\n",
       "  </tbody>\n",
       "</table>\n",
       "</div>"
      ],
      "text/plain": [
       "                     Temperature  Week_of_Year\n",
       "Date                                          \n",
       "2010-05-01 00:00:00         67.6            17\n",
       "2010-05-01 01:00:00         66.4            17\n",
       "2010-05-01 02:00:00         65.6            17\n",
       "2010-05-01 03:00:00         65.0            17\n",
       "2010-05-01 04:00:00         64.7            17"
      ]
     },
     "execution_count": 71,
     "metadata": {},
     "output_type": "execute_result"
    }
   ],
   "source": [
    "# Generate a column with the week of the year\n",
    "X['Week_of_Year'] = X.index.weekofyear\n",
    "X.head()"
   ]
  },
  {
   "cell_type": "code",
   "execution_count": 72,
   "metadata": {},
   "outputs": [
    {
     "data": {
      "text/html": [
       "<div>\n",
       "<style scoped>\n",
       "    .dataframe tbody tr th:only-of-type {\n",
       "        vertical-align: middle;\n",
       "    }\n",
       "\n",
       "    .dataframe tbody tr th {\n",
       "        vertical-align: top;\n",
       "    }\n",
       "\n",
       "    .dataframe thead th {\n",
       "        text-align: right;\n",
       "    }\n",
       "</style>\n",
       "<table border=\"1\" class=\"dataframe\">\n",
       "  <thead>\n",
       "    <tr style=\"text-align: right;\">\n",
       "      <th></th>\n",
       "      <th>Temperature</th>\n",
       "      <th>Week_of_Year_17</th>\n",
       "      <th>Week_of_Year_18</th>\n",
       "      <th>Week_of_Year_19</th>\n",
       "      <th>Week_of_Year_20</th>\n",
       "      <th>Week_of_Year_21</th>\n",
       "      <th>Week_of_Year_22</th>\n",
       "      <th>Week_of_Year_23</th>\n",
       "      <th>Week_of_Year_24</th>\n",
       "      <th>Week_of_Year_25</th>\n",
       "      <th>Week_of_Year_26</th>\n",
       "      <th>Week_of_Year_27</th>\n",
       "      <th>Week_of_Year_28</th>\n",
       "      <th>Week_of_Year_29</th>\n",
       "      <th>Week_of_Year_30</th>\n",
       "    </tr>\n",
       "    <tr>\n",
       "      <th>Date</th>\n",
       "      <th></th>\n",
       "      <th></th>\n",
       "      <th></th>\n",
       "      <th></th>\n",
       "      <th></th>\n",
       "      <th></th>\n",
       "      <th></th>\n",
       "      <th></th>\n",
       "      <th></th>\n",
       "      <th></th>\n",
       "      <th></th>\n",
       "      <th></th>\n",
       "      <th></th>\n",
       "      <th></th>\n",
       "      <th></th>\n",
       "    </tr>\n",
       "  </thead>\n",
       "  <tbody>\n",
       "    <tr>\n",
       "      <th>2010-05-01 00:00:00</th>\n",
       "      <td>67.6</td>\n",
       "      <td>1</td>\n",
       "      <td>0</td>\n",
       "      <td>0</td>\n",
       "      <td>0</td>\n",
       "      <td>0</td>\n",
       "      <td>0</td>\n",
       "      <td>0</td>\n",
       "      <td>0</td>\n",
       "      <td>0</td>\n",
       "      <td>0</td>\n",
       "      <td>0</td>\n",
       "      <td>0</td>\n",
       "      <td>0</td>\n",
       "      <td>0</td>\n",
       "    </tr>\n",
       "    <tr>\n",
       "      <th>2010-05-01 01:00:00</th>\n",
       "      <td>66.4</td>\n",
       "      <td>1</td>\n",
       "      <td>0</td>\n",
       "      <td>0</td>\n",
       "      <td>0</td>\n",
       "      <td>0</td>\n",
       "      <td>0</td>\n",
       "      <td>0</td>\n",
       "      <td>0</td>\n",
       "      <td>0</td>\n",
       "      <td>0</td>\n",
       "      <td>0</td>\n",
       "      <td>0</td>\n",
       "      <td>0</td>\n",
       "      <td>0</td>\n",
       "    </tr>\n",
       "    <tr>\n",
       "      <th>2010-05-01 02:00:00</th>\n",
       "      <td>65.6</td>\n",
       "      <td>1</td>\n",
       "      <td>0</td>\n",
       "      <td>0</td>\n",
       "      <td>0</td>\n",
       "      <td>0</td>\n",
       "      <td>0</td>\n",
       "      <td>0</td>\n",
       "      <td>0</td>\n",
       "      <td>0</td>\n",
       "      <td>0</td>\n",
       "      <td>0</td>\n",
       "      <td>0</td>\n",
       "      <td>0</td>\n",
       "      <td>0</td>\n",
       "    </tr>\n",
       "    <tr>\n",
       "      <th>2010-05-01 03:00:00</th>\n",
       "      <td>65.0</td>\n",
       "      <td>1</td>\n",
       "      <td>0</td>\n",
       "      <td>0</td>\n",
       "      <td>0</td>\n",
       "      <td>0</td>\n",
       "      <td>0</td>\n",
       "      <td>0</td>\n",
       "      <td>0</td>\n",
       "      <td>0</td>\n",
       "      <td>0</td>\n",
       "      <td>0</td>\n",
       "      <td>0</td>\n",
       "      <td>0</td>\n",
       "      <td>0</td>\n",
       "    </tr>\n",
       "    <tr>\n",
       "      <th>2010-05-01 04:00:00</th>\n",
       "      <td>64.7</td>\n",
       "      <td>1</td>\n",
       "      <td>0</td>\n",
       "      <td>0</td>\n",
       "      <td>0</td>\n",
       "      <td>0</td>\n",
       "      <td>0</td>\n",
       "      <td>0</td>\n",
       "      <td>0</td>\n",
       "      <td>0</td>\n",
       "      <td>0</td>\n",
       "      <td>0</td>\n",
       "      <td>0</td>\n",
       "      <td>0</td>\n",
       "      <td>0</td>\n",
       "    </tr>\n",
       "  </tbody>\n",
       "</table>\n",
       "</div>"
      ],
      "text/plain": [
       "                     Temperature  Week_of_Year_17  Week_of_Year_18  \\\n",
       "Date                                                                 \n",
       "2010-05-01 00:00:00         67.6                1                0   \n",
       "2010-05-01 01:00:00         66.4                1                0   \n",
       "2010-05-01 02:00:00         65.6                1                0   \n",
       "2010-05-01 03:00:00         65.0                1                0   \n",
       "2010-05-01 04:00:00         64.7                1                0   \n",
       "\n",
       "                     Week_of_Year_19  Week_of_Year_20  Week_of_Year_21  \\\n",
       "Date                                                                     \n",
       "2010-05-01 00:00:00                0                0                0   \n",
       "2010-05-01 01:00:00                0                0                0   \n",
       "2010-05-01 02:00:00                0                0                0   \n",
       "2010-05-01 03:00:00                0                0                0   \n",
       "2010-05-01 04:00:00                0                0                0   \n",
       "\n",
       "                     Week_of_Year_22  Week_of_Year_23  Week_of_Year_24  \\\n",
       "Date                                                                     \n",
       "2010-05-01 00:00:00                0                0                0   \n",
       "2010-05-01 01:00:00                0                0                0   \n",
       "2010-05-01 02:00:00                0                0                0   \n",
       "2010-05-01 03:00:00                0                0                0   \n",
       "2010-05-01 04:00:00                0                0                0   \n",
       "\n",
       "                     Week_of_Year_25  Week_of_Year_26  Week_of_Year_27  \\\n",
       "Date                                                                     \n",
       "2010-05-01 00:00:00                0                0                0   \n",
       "2010-05-01 01:00:00                0                0                0   \n",
       "2010-05-01 02:00:00                0                0                0   \n",
       "2010-05-01 03:00:00                0                0                0   \n",
       "2010-05-01 04:00:00                0                0                0   \n",
       "\n",
       "                     Week_of_Year_28  Week_of_Year_29  Week_of_Year_30  \n",
       "Date                                                                    \n",
       "2010-05-01 00:00:00                0                0                0  \n",
       "2010-05-01 01:00:00                0                0                0  \n",
       "2010-05-01 02:00:00                0                0                0  \n",
       "2010-05-01 03:00:00                0                0                0  \n",
       "2010-05-01 04:00:00                0                0                0  "
      ]
     },
     "execution_count": 72,
     "metadata": {},
     "output_type": "execute_result"
    }
   ],
   "source": [
    "# Binary encode the weekly column to use as new input features for the model\n",
    "X_binary_encoded = pd.get_dummies(X, columns=['Week_of_Year'])\n",
    "X_binary_encoded.head()"
   ]
  },
  {
   "cell_type": "code",
   "execution_count": 73,
   "metadata": {},
   "outputs": [
    {
     "data": {
      "text/html": [
       "<div>\n",
       "<style scoped>\n",
       "    .dataframe tbody tr th:only-of-type {\n",
       "        vertical-align: middle;\n",
       "    }\n",
       "\n",
       "    .dataframe tbody tr th {\n",
       "        vertical-align: top;\n",
       "    }\n",
       "\n",
       "    .dataframe thead th {\n",
       "        text-align: right;\n",
       "    }\n",
       "</style>\n",
       "<table border=\"1\" class=\"dataframe\">\n",
       "  <thead>\n",
       "    <tr style=\"text-align: right;\">\n",
       "      <th></th>\n",
       "      <th>Week_of_Year_17</th>\n",
       "      <th>Week_of_Year_18</th>\n",
       "      <th>Week_of_Year_19</th>\n",
       "      <th>Week_of_Year_20</th>\n",
       "      <th>Week_of_Year_21</th>\n",
       "      <th>Week_of_Year_22</th>\n",
       "      <th>Week_of_Year_23</th>\n",
       "      <th>Week_of_Year_24</th>\n",
       "      <th>Week_of_Year_25</th>\n",
       "      <th>Week_of_Year_26</th>\n",
       "      <th>Week_of_Year_27</th>\n",
       "      <th>Week_of_Year_28</th>\n",
       "      <th>Week_of_Year_29</th>\n",
       "      <th>Week_of_Year_30</th>\n",
       "    </tr>\n",
       "    <tr>\n",
       "      <th>Date</th>\n",
       "      <th></th>\n",
       "      <th></th>\n",
       "      <th></th>\n",
       "      <th></th>\n",
       "      <th></th>\n",
       "      <th></th>\n",
       "      <th></th>\n",
       "      <th></th>\n",
       "      <th></th>\n",
       "      <th></th>\n",
       "      <th></th>\n",
       "      <th></th>\n",
       "      <th></th>\n",
       "      <th></th>\n",
       "    </tr>\n",
       "  </thead>\n",
       "  <tbody>\n",
       "    <tr>\n",
       "      <th>2010-05-01 00:00:00</th>\n",
       "      <td>1</td>\n",
       "      <td>0</td>\n",
       "      <td>0</td>\n",
       "      <td>0</td>\n",
       "      <td>0</td>\n",
       "      <td>0</td>\n",
       "      <td>0</td>\n",
       "      <td>0</td>\n",
       "      <td>0</td>\n",
       "      <td>0</td>\n",
       "      <td>0</td>\n",
       "      <td>0</td>\n",
       "      <td>0</td>\n",
       "      <td>0</td>\n",
       "    </tr>\n",
       "    <tr>\n",
       "      <th>2010-05-01 01:00:00</th>\n",
       "      <td>1</td>\n",
       "      <td>0</td>\n",
       "      <td>0</td>\n",
       "      <td>0</td>\n",
       "      <td>0</td>\n",
       "      <td>0</td>\n",
       "      <td>0</td>\n",
       "      <td>0</td>\n",
       "      <td>0</td>\n",
       "      <td>0</td>\n",
       "      <td>0</td>\n",
       "      <td>0</td>\n",
       "      <td>0</td>\n",
       "      <td>0</td>\n",
       "    </tr>\n",
       "    <tr>\n",
       "      <th>2010-05-01 02:00:00</th>\n",
       "      <td>1</td>\n",
       "      <td>0</td>\n",
       "      <td>0</td>\n",
       "      <td>0</td>\n",
       "      <td>0</td>\n",
       "      <td>0</td>\n",
       "      <td>0</td>\n",
       "      <td>0</td>\n",
       "      <td>0</td>\n",
       "      <td>0</td>\n",
       "      <td>0</td>\n",
       "      <td>0</td>\n",
       "      <td>0</td>\n",
       "      <td>0</td>\n",
       "    </tr>\n",
       "    <tr>\n",
       "      <th>2010-05-01 03:00:00</th>\n",
       "      <td>1</td>\n",
       "      <td>0</td>\n",
       "      <td>0</td>\n",
       "      <td>0</td>\n",
       "      <td>0</td>\n",
       "      <td>0</td>\n",
       "      <td>0</td>\n",
       "      <td>0</td>\n",
       "      <td>0</td>\n",
       "      <td>0</td>\n",
       "      <td>0</td>\n",
       "      <td>0</td>\n",
       "      <td>0</td>\n",
       "      <td>0</td>\n",
       "    </tr>\n",
       "    <tr>\n",
       "      <th>2010-05-01 04:00:00</th>\n",
       "      <td>1</td>\n",
       "      <td>0</td>\n",
       "      <td>0</td>\n",
       "      <td>0</td>\n",
       "      <td>0</td>\n",
       "      <td>0</td>\n",
       "      <td>0</td>\n",
       "      <td>0</td>\n",
       "      <td>0</td>\n",
       "      <td>0</td>\n",
       "      <td>0</td>\n",
       "      <td>0</td>\n",
       "      <td>0</td>\n",
       "      <td>0</td>\n",
       "    </tr>\n",
       "  </tbody>\n",
       "</table>\n",
       "</div>"
      ],
      "text/plain": [
       "                     Week_of_Year_17  Week_of_Year_18  Week_of_Year_19  \\\n",
       "Date                                                                     \n",
       "2010-05-01 00:00:00                1                0                0   \n",
       "2010-05-01 01:00:00                1                0                0   \n",
       "2010-05-01 02:00:00                1                0                0   \n",
       "2010-05-01 03:00:00                1                0                0   \n",
       "2010-05-01 04:00:00                1                0                0   \n",
       "\n",
       "                     Week_of_Year_20  Week_of_Year_21  Week_of_Year_22  \\\n",
       "Date                                                                     \n",
       "2010-05-01 00:00:00                0                0                0   \n",
       "2010-05-01 01:00:00                0                0                0   \n",
       "2010-05-01 02:00:00                0                0                0   \n",
       "2010-05-01 03:00:00                0                0                0   \n",
       "2010-05-01 04:00:00                0                0                0   \n",
       "\n",
       "                     Week_of_Year_23  Week_of_Year_24  Week_of_Year_25  \\\n",
       "Date                                                                     \n",
       "2010-05-01 00:00:00                0                0                0   \n",
       "2010-05-01 01:00:00                0                0                0   \n",
       "2010-05-01 02:00:00                0                0                0   \n",
       "2010-05-01 03:00:00                0                0                0   \n",
       "2010-05-01 04:00:00                0                0                0   \n",
       "\n",
       "                     Week_of_Year_26  Week_of_Year_27  Week_of_Year_28  \\\n",
       "Date                                                                     \n",
       "2010-05-01 00:00:00                0                0                0   \n",
       "2010-05-01 01:00:00                0                0                0   \n",
       "2010-05-01 02:00:00                0                0                0   \n",
       "2010-05-01 03:00:00                0                0                0   \n",
       "2010-05-01 04:00:00                0                0                0   \n",
       "\n",
       "                     Week_of_Year_29  Week_of_Year_30  \n",
       "Date                                                   \n",
       "2010-05-01 00:00:00                0                0  \n",
       "2010-05-01 01:00:00                0                0  \n",
       "2010-05-01 02:00:00                0                0  \n",
       "2010-05-01 03:00:00                0                0  \n",
       "2010-05-01 04:00:00                0                0  "
      ]
     },
     "execution_count": 73,
     "metadata": {},
     "output_type": "execute_result"
    }
   ],
   "source": [
    "# The target Temperature column must be deleted from the input features\n",
    "X_binary_encoded = X_binary_encoded.drop('Temperature', axis=1)\n",
    "X_binary_encoded.head()"
   ]
  },
  {
   "cell_type": "code",
   "execution_count": 74,
   "metadata": {},
   "outputs": [],
   "source": [
    "# The target for our model is to predict the Temperature\n",
    "y = df['Temperature'].copy()"
   ]
  },
  {
   "cell_type": "markdown",
   "metadata": {},
   "source": [
    "# Linear Regression"
   ]
  },
  {
   "cell_type": "code",
   "execution_count": 75,
   "metadata": {},
   "outputs": [],
   "source": [
    "# Create the Linear Regression model\n",
    "model = LinearRegression()\n",
    "\n",
    "# Fit the model to the data (Train the model)\n",
    "model.fit(X_binary_encoded, y)\n",
    "\n",
    "# Predict the temperature using the week of the year as inputs\n",
    "predictions = model.predict(X_binary_encoded)"
   ]
  },
  {
   "cell_type": "markdown",
   "metadata": {},
   "source": [
    "# Evaluating the Model"
   ]
  },
  {
   "cell_type": "code",
   "execution_count": 76,
   "metadata": {},
   "outputs": [
    {
     "name": "stdout",
     "output_type": "stream",
     "text": [
      "Score: 0.23669744138390936, r2: 0.23669744138390936\n"
     ]
    }
   ],
   "source": [
    "import numpy as np\n",
    "from sklearn.metrics import mean_squared_error, r2_score\n",
    "\n",
    "# The default scoring method is the R2 score\n",
    "score = model.score(X_binary_encoded, y)\n",
    "r2 = r2_score(y, predictions)\n",
    "\n",
    "print(f\"Score: {score}, r2: {r2}\")"
   ]
  },
  {
   "cell_type": "code",
   "execution_count": 77,
   "metadata": {},
   "outputs": [
    {
     "data": {
      "text/plain": [
       "40.73051650116408"
      ]
     },
     "execution_count": 77,
     "metadata": {},
     "output_type": "execute_result"
    }
   ],
   "source": [
    "# Mean Squared Error\n",
    "mse = mean_squared_error(y, predictions)\n",
    "mse"
   ]
  },
  {
   "cell_type": "code",
   "execution_count": 78,
   "metadata": {},
   "outputs": [
    {
     "data": {
      "text/plain": [
       "6.382046419540059"
      ]
     },
     "execution_count": 78,
     "metadata": {},
     "output_type": "execute_result"
    }
   ],
   "source": [
    "# Root Mean Squared Error\n",
    "rmse = np.sqrt(mse)\n",
    "rmse"
   ]
  },
  {
   "cell_type": "code",
   "execution_count": 79,
   "metadata": {},
   "outputs": [
    {
     "data": {
      "text/plain": [
       "7.304854998693149"
      ]
     },
     "execution_count": 79,
     "metadata": {},
     "output_type": "execute_result"
    }
   ],
   "source": [
    "# Standard deviation of the temperature\n",
    "np.std(y)"
   ]
  },
  {
   "cell_type": "markdown",
   "metadata": {},
   "source": [
    "# Plotting the Regression Line"
   ]
  },
  {
   "cell_type": "code",
   "execution_count": 91,
   "metadata": {},
   "outputs": [
    {
     "data": {
      "text/plain": [
       "[<matplotlib.lines.Line2D at 0x1e2d51a7b08>]"
      ]
     },
     "execution_count": 91,
     "metadata": {},
     "output_type": "execute_result"
    },
    {
     "data": {
      "image/png": "[encoded data removed]",
      "text/plain": [
       "<Figure size 432x288 with 1 Axes>"
      ]
     },
     "metadata": {
      "needs_background": "light"
     },
     "output_type": "display_data"
    }
   ],
   "source": [
    "plt.scatter(X['Week_of_Year'], y)\n",
    "plt.plot(X['Week_of_Year'], predictions, color='red')"
   ]
  },
  {
   "cell_type": "code",
   "execution_count": 93,
   "metadata": {},
   "outputs": [
    {
     "data": {
      "text/plain": [
       "<seaborn.axisgrid.FacetGrid at 0x1e2d54c52c8>"
      ]
     },
     "execution_count": 93,
     "metadata": {},
     "output_type": "execute_result"
    },
    {
     "data": {
      "image/png": "[encoded data removed]",
      "text/plain": [
       "<Figure size 396x360 with 1 Axes>"
      ]
     },
     "metadata": {
      "needs_background": "light"
     },
     "output_type": "display_data"
    }
   ],
   "source": [
    "import seaborn as sns\n",
    "sns.lmplot(x='weekofyear', y='Temperature', data=df, line_kws={'color': 'Red'}, aspect=1.1, height=5)"
   ]
  },
  {
   "cell_type": "code",
   "execution_count": null,
   "metadata": {},
   "outputs": [],
   "source": []
  }
 ],
 "metadata": {
  "kernelspec": {
   "display_name": "Python 3",
   "language": "python",
   "name": "python3"
  },
  "language_info": {
   "codemirror_mode": {
    "name": "ipython",
    "version": 3
   },
   "file_extension": ".py",
   "mimetype": "text/x-python",
   "name": "python",
   "nbconvert_exporter": "python",
   "pygments_lexer": "ipython3",
   "version": "3.7.6"
  }
 },
 "nbformat": 4,
 "nbformat_minor": 4
}
